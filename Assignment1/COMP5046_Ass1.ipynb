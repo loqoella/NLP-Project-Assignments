{
  "nbformat": 4,
  "nbformat_minor": 0,
  "metadata": {
    "colab": {
      "name": "jqin9594__COMP5046_Ass1.ipynb",
      "provenance": [],
      "collapsed_sections": [],
      "toc_visible": true,
      "machine_shape": "hm"
    },
    "kernelspec": {
      "name": "python3",
      "display_name": "Python 3"
    }
  },
  "cells": [
    {
      "cell_type": "markdown",
      "metadata": {
        "id": "MGHoy6KpQDfZ",
        "colab_type": "text"
      },
      "source": [
        "# COMP5046 Assignment 1\n",
        "*Make sure you change the file name with your unikey.*"
      ]
    },
    {
      "cell_type": "markdown",
      "metadata": {
        "id": "qTf21j_oQIiD",
        "colab_type": "text"
      },
      "source": [
        "# Readme\n",
        "*If there is something to be noted for the user, please mention here.* \n",
        "\n",
        "*If you are planning to implement a program with Object Oriented Programming style*"
      ]
    },
    {
      "cell_type": "markdown",
      "metadata": {
        "id": "iXbQohXLKSgO",
        "colab_type": "text"
      },
      "source": [
        "***Visualising the comparison of different results is a good way to justify your decision.***"
      ]
    },
    {
      "cell_type": "markdown",
      "metadata": {
        "id": "34DVNKgqQY21",
        "colab_type": "text"
      },
      "source": [
        "# 1 - Data Preprocessing"
      ]
    },
    {
      "cell_type": "markdown",
      "metadata": {
        "id": "7cWUxAQrGlq6",
        "colab_type": "text"
      },
      "source": [
        "## 1.1. Download Dataset"
      ]
    },
    {
      "cell_type": "code",
      "metadata": {
        "id": "U7C4snIcNl22",
        "colab_type": "code",
        "outputId": "474820b6-0221-41a0-e6ee-27bda8355030",
        "colab": {
          "base_uri": "https://localhost:8080/",
          "height": 52
        }
      },
      "source": [
        "# Code to download file into Colaboratory:\n",
        "!pip install -U -q PyDrive\n",
        "from pydrive.auth import GoogleAuth\n",
        "from pydrive.drive import GoogleDrive\n",
        "from google.colab import auth\n",
        "from oauth2client.client import GoogleCredentials\n",
        "# Authenticate and create the PyDrive client.\n",
        "auth.authenticate_user()\n",
        "gauth = GoogleAuth()\n",
        "gauth.credentials = GoogleCredentials.get_application_default()\n",
        "drive = GoogleDrive(gauth)\n",
        "\n",
        "id = '1vF3FqgBC1Y-RPefeVmY8zetdZG1jmHzT'\n",
        "downloaded = drive.CreateFile({'id':id}) \n",
        "downloaded.GetContentFile('imdb_train.csv')\n",
        "\n",
        "id = '1XhaV8YMuQeSwozQww8PeyiWMJfia13G6'\n",
        "downloaded = drive.CreateFile({'id':id}) \n",
        "downloaded.GetContentFile('imdb_test.csv')\n",
        "\n",
        "import pandas as pd\n",
        "df_train = pd.read_csv(\"imdb_train.csv\")\n",
        "df_test = pd.read_csv(\"imdb_test.csv\")\n",
        "\n",
        "reviews_train = df_train['review'].tolist()\n",
        "sentiments_train = df_train['sentiment'].tolist()\n",
        "reviews_test = df_test['review'].tolist()\n",
        "sentiments_test = df_test['sentiment'].tolist()\n",
        "\n",
        "print(\"Training set number:\",len(reviews_train))\n",
        "print(\"Testing set number:\",len(reviews_test))"
      ],
      "execution_count": 0,
      "outputs": [
        {
          "output_type": "stream",
          "text": [
            "Training set number: 25000\n",
            "Testing set number: 25000\n"
          ],
          "name": "stdout"
        }
      ]
    },
    {
      "cell_type": "markdown",
      "metadata": {
        "id": "c0nUw5Mjurgl",
        "colab_type": "text"
      },
      "source": [
        "Please Download these files first."
      ]
    },
    {
      "cell_type": "code",
      "metadata": {
        "id": "HzQylPQjwCmy",
        "colab_type": "code",
        "colab": {}
      },
      "source": [
        "!pip install -U -q PyDrive\n",
        "from pydrive.auth import GoogleAuth\n",
        "from pydrive.drive import GoogleDrive\n",
        "from google.colab import auth\n",
        "from oauth2client.client import GoogleCredentials\n",
        "# Authenticate and create the PyDrive client.\n",
        "auth.authenticate_user()\n",
        "gauth = GoogleAuth()\n",
        "gauth.credentials = GoogleCredentials.get_application_default()\n",
        "drive = GoogleDrive(gauth)\n",
        "\n",
        "id = '1Lcc_W9Kq0TeSyn0SmetNw_lGyxVjGjzq'\n",
        "downloaded = drive.CreateFile({'id':id}) \n",
        "downloaded.GetContentFile('word_embedding_model.pt')\n",
        "\n",
        "id = '1zh4wIrzqAMzQu6CdDYQwm6Q9IeqTKkjz'\n",
        "downloaded = drive.CreateFile({'id':id}) \n",
        "downloaded.GetContentFile('Character_embedding_model.pt')\n",
        "\n",
        "id = '1PLm_PmqOW9ZWApSHZc7dWWAxjEApgEw3'\n",
        "downloaded = drive.CreateFile({'id':id}) \n",
        "downloaded.GetContentFile('reviews_train_le.json')\n",
        "\n",
        "id = '18wQ2eL4hV4pk_w-opr0VnSuRjuUTsrMt'\n",
        "downloaded = drive.CreateFile({'id':id}) \n",
        "downloaded.GetContentFile('reviews_test_le.json')\n",
        "\n",
        "id = '1xkoM3UbrsHfXfWbHV1ZecvN3X5x7azXM'\n",
        "downloaded = drive.CreateFile({'id':id}) \n",
        "downloaded.GetContentFile('sentiments_train.json')\n",
        "\n",
        "id = '1VWGtOrMMrN71-VA2joHvpCHTxDio5gi6'\n",
        "downloaded = drive.CreateFile({'id':id}) \n",
        "downloaded.GetContentFile('sentiments_test.json')\n",
        "\n",
        "id = '11ytOEc8zMz82_fe92FMEVBcKzCqfxKdV'\n",
        "downloaded = drive.CreateFile({'id':id}) \n",
        "downloaded.GetContentFile('Sequence_model.pt')\n"
      ],
      "execution_count": 0,
      "outputs": []
    },
    {
      "cell_type": "markdown",
      "metadata": {
        "id": "l9gBSgBCQh24",
        "colab_type": "text"
      },
      "source": [
        "## 1.2. Preprocess data"
      ]
    },
    {
      "cell_type": "markdown",
      "metadata": {
        "id": "8RdKI8E2KRwe",
        "colab_type": "text"
      },
      "source": [
        "Data preprocessing is really important in NLP tasks, especially for large datasets. Efficient data preprocess can keep important points and information to make the machine understand the data better. In this task, there are 50,000 reviews of the movies from IMDB, 25,000 of them are in the training set and the other 25,000 are in the testing set. Each review contains lots of words which may be composed of numeric characters and unusual symbols. We need to deal with them to make them cleaner, more accurate, and universal. In this section, multiple data preprocessing methods are applied to gain a cleaner dataset for further implementations. \n",
        "</br>\n",
        "</br>\n",
        "#### Case Folding\n",
        "Since the same word with different cases may be regarded as different words, such as “Me” and “me”, we need to change all words in their lowercases. Then the same word will be seen as the same.\n",
        "</br>\n",
        "</br>\n",
        "#### Remove <label>\n",
        "Some of the reviews data contain HTML labels such as </br>, but these labels have no actual meanings and will make the data noisy. Therefore, I delete all the labels.\n",
        "</br>\n",
        "</br>\n",
        "#### Remove punctuation\n",
        "Punctuations in the data do not add any additional information, I delete them to decrease the data size.\n",
        "</br>\n",
        "</br>\n",
        "#### Tokenization\n",
        "I do the tokenization after removing punctuations otherwise the punctuations would also be tokenized. After tokenizing, the text will be split into “words”, each word is a token. \n",
        "</br>\n",
        "</br>\n",
        "#### Remove stopwords\n",
        "Stopwords contain the most frequently used words such as “is”, “our”, “of”. However, these words may not add any additional meanings or useful information and maybe not helpful for us to analyze the data. Therefore I delete them to reduce the size of the dataset. \n",
        "</br>\n",
        "</br>\n",
        "#### Lemmatization\n",
        "Since the dataset contains lots of reviews from the internet, we need to do lemmatization to restore the general meaning of the word. By doing the lemmatization, words can be restored to general forms that can express the complete semantics and can be analyzed better. I did not do Stemming since it cannot express the complete semantics, just restore words to their roots. But sometimes, words with totally different meanings would be replaced by the same root word. Therefore we only did Lemmatization whose replaced words are more meaningful, complete, and effective.\n",
        "</br>\n",
        "</br>\n",
        "#### Label Encoding\n",
        "To preprocess the label data, the labels as 0 for “negative”  and 1 for “positive”.\n",
        "</br>\n",
        "</br>\n",
        "\n"
      ]
    },
    {
      "cell_type": "markdown",
      "metadata": {
        "id": "ml96jiE7troP",
        "colab_type": "text"
      },
      "source": [
        "Please **Do Not** run this code, or you will take a long time. I have stored the json data in the following code section."
      ]
    },
    {
      "cell_type": "code",
      "metadata": {
        "id": "emyl1lWxGr12",
        "colab_type": "code",
        "outputId": "75f2cd49-e363-4b7e-f326-76f9f09fa7e0",
        "colab": {
          "base_uri": "https://localhost:8080/",
          "height": 121
        }
      },
      "source": [
        "import re\n",
        "import nltk\n",
        "nltk.download('punkt')\n",
        "nltk.download('stopwords')\n",
        "from nltk.tokenize import word_tokenize\n",
        "from nltk.corpus import stopwords as sw\n",
        "nltk.download('wordnet')\n",
        "from nltk.stem import WordNetLemmatizer\n",
        "\n",
        "#Lowercase\n",
        "reviews_train = [i.lower() for i in reviews_train]\n",
        "reviews_test = [i.lower() for i in reviews_test]\n",
        "\n",
        "#Remove html labels such as </br>\n",
        "def remove_br_labels(x):\n",
        "  remove_label = re.compile('<.*?>')\n",
        "  x = re.sub(remove_label,'', x)\n",
        "  return x\n",
        "reviews_train = [remove_br_labels(i) for i in reviews_train]\n",
        "reviews_test = [remove_br_labels(i) for i in reviews_test]\n",
        "\n",
        "#Remove punctuation\n",
        "def remove_punctuation_re(x):\n",
        "  x = re.sub(r'[^\\w\\s]','', x)\n",
        "  return x\n",
        "reviews_train = [remove_punctuation_re(i) for i in reviews_train]\n",
        "reviews_test = [remove_punctuation_re(i) for i in reviews_test]\n",
        "\n",
        "#Tokenisation\n",
        "reviews_train = [word_tokenize(i) for i in reviews_train]\n",
        "reviews_test = [word_tokenize(i) for i in reviews_test]\n",
        "\n",
        "#Stopwords Removal\n",
        "stopwords = sw.words()\n",
        "reviews_train_ns=[]\n",
        "for tokens in reviews_train:\n",
        "  filtered_sentence = [w for w in tokens if not w in stopwords]\n",
        "  reviews_train_ns.append(filtered_sentence)\n",
        "\n",
        "reviews_test_ns=[]\n",
        "for tokens in reviews_test:\n",
        "  filtered_sentence = [w for w in tokens if not w in stopwords]\n",
        "  reviews_test_ns.append(filtered_sentence)\n",
        "\n",
        "#Lemmatisation\n",
        "lemmatizer = WordNetLemmatizer()\n",
        "reviews_train_le=[]\n",
        "for tokens in reviews_train_ns:\n",
        "  lemma_sentence = [lemmatizer.lemmatize(w) for w in tokens]\n",
        "  reviews_train_le.append(lemma_sentence)\n",
        "\n",
        "reviews_test_le=[]\n",
        "for tokens in reviews_test_ns:\n",
        "  lemma_sentence = [lemmatizer.lemmatize(w) for w in tokens]\n",
        "  reviews_test_le.append(lemma_sentence)\n"
      ],
      "execution_count": 0,
      "outputs": [
        {
          "output_type": "stream",
          "text": [
            "[nltk_data] Downloading package punkt to /root/nltk_data...\n",
            "[nltk_data]   Package punkt is already up-to-date!\n",
            "[nltk_data] Downloading package stopwords to /root/nltk_data...\n",
            "[nltk_data]   Package stopwords is already up-to-date!\n",
            "[nltk_data] Downloading package wordnet to /root/nltk_data...\n",
            "[nltk_data]   Package wordnet is already up-to-date!\n"
          ],
          "name": "stdout"
        }
      ]
    },
    {
      "cell_type": "markdown",
      "metadata": {
        "id": "h3HR_Sa8uCl9",
        "colab_type": "text"
      },
      "source": [
        "Please Do Not run this"
      ]
    },
    {
      "cell_type": "code",
      "metadata": {
        "id": "MAsuUd69r4V-",
        "colab_type": "code",
        "colab": {}
      },
      "source": [
        "import json\n",
        "import torch\n",
        "json.dump(reviews_train_le, open('reviews_train_le.json', 'w'))\n",
        "json.dump(reviews_test_le, open('reviews_test_le.json', 'w'))\n",
        "json.dump(sentiments_train, open('sentiments_train.json', 'w'))\n",
        "json.dump(sentiments_test, open('sentiments_test.json', 'w'))"
      ],
      "execution_count": 0,
      "outputs": []
    },
    {
      "cell_type": "markdown",
      "metadata": {
        "id": "gbDM3cL4uHMX",
        "colab_type": "text"
      },
      "source": [
        "Please run this saved dataset, it will save lots of time."
      ]
    },
    {
      "cell_type": "code",
      "metadata": {
        "id": "deX923udtUkK",
        "colab_type": "code",
        "colab": {}
      },
      "source": [
        "import json\n",
        "\n",
        "reviews_train_le = json.load(open('reviews_train_le.json'))\n",
        "reviews_test_le = json.load(open('reviews_test_le.json'))\n",
        "sentiments_train = json.load(open('sentiments_train.json'))\n",
        "sentiments_test = json.load(open('sentiments_test.json'))"
      ],
      "execution_count": 0,
      "outputs": []
    },
    {
      "cell_type": "markdown",
      "metadata": {
        "id": "PpEzugeNPymx",
        "colab_type": "text"
      },
      "source": [
        "**Label Encoding**"
      ]
    },
    {
      "cell_type": "code",
      "metadata": {
        "id": "M4eAw6SRP6GD",
        "colab_type": "code",
        "outputId": "9a7d45a9-c8e7-4b26-f6bb-6d5fbbe3d8ab",
        "colab": {
          "base_uri": "https://localhost:8080/",
          "height": 52
        }
      },
      "source": [
        "\n",
        "from sklearn.preprocessing import LabelEncoder\n",
        "import numpy as np\n",
        "labels = np.unique(sentiments_train)\n",
        "lEnc = LabelEncoder()\n",
        "lEnc.fit(labels)\n",
        "sentiments_train_n = lEnc.transform(sentiments_train)\n",
        "sentiments_test_n = lEnc.transform(sentiments_test)\n",
        "numClass = len(labels)\n",
        "\n",
        "print(labels)\n",
        "print(lEnc.transform(labels))"
      ],
      "execution_count": 2,
      "outputs": [
        {
          "output_type": "stream",
          "text": [
            "['neg' 'pos']\n",
            "[0 1]\n"
          ],
          "name": "stdout"
        }
      ]
    },
    {
      "cell_type": "code",
      "metadata": {
        "id": "rWKt0lOyAYQn",
        "colab_type": "code",
        "outputId": "68885b3e-7387-43a0-c1a8-ea1765ae1002",
        "colab": {
          "base_uri": "https://localhost:8080/",
          "height": 54
        }
      },
      "source": [
        "print(reviews_train_le[0])"
      ],
      "execution_count": 0,
      "outputs": [
        {
          "output_type": "stream",
          "text": [
            "['enjoyed', 'movie', 'havent', 'seen', 'andy', 'griffith', 'age', 'felt', 'fit', 'role', 'perfectly', 'ive', 'associated', 'comedy', 'pleased', 'see', 'he', 'versatilei', 'wasnt', 'troubled', 'dottys', 'anxiety', 'disorder', 'may', 'verbatim', 'psychiatric', 'textbook', 'zillion', 'whateverphobias', 'neurosis', 'broad', 'variety', 'quantitative', 'qualitative', 'form', 'clearly', 'sensitive', 'extrasensory', 'power', 'understood', 'local', 'indian', 'anglos', 'surprising', 'character', 'vulnerable', 'nominally', 'eccentricalthough', 'taken', 'light', 'family', 'movie', 'actually', 'sophisticated', 'seems', 'hirams', 'twist', 'came', 'pleasant', 'surprise', 'tied', 'preceding', 'action', 'together', 'bundle', 'fun', 'contemplate', 'possibility', 'spiritual', 'guidance']\n"
          ],
          "name": "stdout"
        }
      ]
    },
    {
      "cell_type": "markdown",
      "metadata": {
        "id": "LIu_lkJwQ55g",
        "colab_type": "text"
      },
      "source": [
        "# 2 - Model Implementation"
      ]
    },
    {
      "cell_type": "markdown",
      "metadata": {
        "id": "daDvAftceIvr",
        "colab_type": "text"
      },
      "source": [
        "## 2.1. Word Embeddings"
      ]
    },
    {
      "cell_type": "markdown",
      "metadata": {
        "id": "lbzm-NWBTmM-",
        "colab_type": "text"
      },
      "source": [
        "In the word embedding model, **Word2Vec with SkipGram** is implemented. \n",
        "\n",
        "Although the FastText model always performs faster, it is not suitable to deal with complex tasks. Our task is to predict the sentiment of the reviews, which needs to analyze the meaning of the sequence. Therefore I choose Word2Vec, which can consider the context more.\n",
        "\n",
        "To get the word vector, CBOW model and SkipGram model are both frequently used. Both of them try to construct a fake task, which focuses more on the intermediates than the final results. CBOW uses context words to predict the target word (center word). On the contrary, SkipGram uses the target word to predict its context words. Because of their working principles, CBOW slides the window once for each training session to get a training sample, while SkipGram slides the center word window once to get multiple training samples. I compare the word frequency (how many times a word in our corpus) with different limitation numbers such as the average frequency, the counts of frequency and max frequency as well as the frequency which is less than 5, 10, 15, and 20. From the figure of “the rate of words that are less frequent than limits”, we can see that most of the tokens in the dataset appear less than 20 times. There are 5,806,190 words in our dataset after the preprocessing step of section 1. Therefore our corpus contains lots of unique words with a large number of 210,286. Therefore SkipGram is applied in our model to make the word vectors more accurate. The window size is set to 2. Each target word (center word) has 2 words before and 2 words after as its context words.  SkipGram can have better performance. \n"
      ]
    },
    {
      "cell_type": "code",
      "metadata": {
        "id": "LFEqcENtV4lo",
        "colab_type": "code",
        "outputId": "5237b4ad-9c19-4a64-9a83-dc75fba038d2",
        "colab": {
          "base_uri": "https://localhost:8080/",
          "height": 69
        }
      },
      "source": [
        "import numpy as np\n",
        "import matplotlib\n",
        "import matplotlib.pyplot as plt\n",
        "# we will delete the word which appears less than 10 times\n",
        "# Build a list that contains all reviews both in training set and the testing set\n",
        "total_reviews = []\n",
        "for each_review in reviews_train_le:\n",
        "  total_reviews.append(each_review)\n",
        "for each_review in reviews_test_le:\n",
        "  total_reviews.append(each_review)\n",
        "print(len(total_reviews))\n",
        "\n",
        "# The total number of words in the reviews (include repeating words)\n",
        "total_word_number = 0\n",
        "for review in total_reviews:\n",
        "  for word in review:\n",
        "    total_word_number += 1\n",
        "print(total_word_number)\n",
        "\n",
        "# Build a dictionary of all words appear in the reviews of both training set and testing set\n",
        "# The dictionary's key is the word, the value is the times that each word appears\n",
        "total_words = {}\n",
        "# Build a list that records the times that each unique word appears in the reviews\n",
        "total_word_counts = []\n",
        "for each_review in total_reviews:\n",
        "  for each_word in each_review:\n",
        "    default_value = 0\n",
        "    total_words[each_word] = 1 + total_words.get(each_word, default_value)\n",
        "# the total number of the unique words\n",
        "print(len(total_words))"
      ],
      "execution_count": 3,
      "outputs": [
        {
          "output_type": "stream",
          "text": [
            "50000\n",
            "5806190\n",
            "210286\n"
          ],
          "name": "stdout"
        }
      ]
    },
    {
      "cell_type": "code",
      "metadata": {
        "id": "C0XxTqFWzWPb",
        "colab_type": "code",
        "outputId": "56cb8d2e-2b56-4b68-9699-5d81c465c4e8",
        "colab": {
          "base_uri": "https://localhost:8080/",
          "height": 317
        }
      },
      "source": [
        "for each_word in total_words:\n",
        "  word_count = total_words.get(each_word)\n",
        "  total_word_counts.append(word_count)\n",
        "\n",
        "word_most_times = max(total_word_counts)\n",
        "print('Most Frequent Word Counts: '+ str(word_most_times))\n",
        "word_mean_times = np.mean(total_word_counts)\n",
        "word_counts_times = np.bincount(total_word_counts)\n",
        "word_counts_times = np.argmax(word_counts_times) \n",
        "count_less_than_mean = 0\n",
        "count_less_than_counts = 0\n",
        "count_less_than_5 = 0\n",
        "count_less_than_10 = 0\n",
        "count_less_than_15 = 0\n",
        "count_less_than_20 = 0\n",
        "\n",
        "for word_times in total_word_counts:\n",
        "  if word_times < word_mean_times:\n",
        "    count_less_than_mean += 1\n",
        "  if word_times < word_counts_times:\n",
        "    count_less_than_counts += 1\n",
        "  if word_times < 5:\n",
        "    count_less_than_5 += 1\n",
        "  if word_times < 10:\n",
        "    count_less_than_10 += 1\n",
        "  if word_times < 15:\n",
        "    count_less_than_15 += 1\n",
        "  if word_times < 20:\n",
        "    count_less_than_20 += 1\n",
        "\n",
        "count_of_words = [word_counts_times, 5, 10, 15, 20, word_mean_times]\n",
        "rate_of_word_frequent = [count_less_than_counts/len(total_words), count_less_than_5/len(total_words), count_less_than_10/len(total_words), count_less_than_15/len(total_words), count_less_than_20/len(total_words), count_less_than_mean/len(total_words)]\n",
        "print(count_of_words)\n",
        "print(rate_of_word_frequent)\n",
        "plt.plot(count_of_words, rate_of_word_frequent, 'g', label = 'Rate of words that are less frequent than limits')\n",
        "plt.legend()\n",
        "plt.show()\n"
      ],
      "execution_count": 4,
      "outputs": [
        {
          "output_type": "stream",
          "text": [
            "Most Frequent Word Counts: 98938\n",
            "[1, 5, 10, 15, 20, 27.61092036559733]\n",
            "[0.0, 0.8143956326146295, 0.8751509848492054, 0.9007304337901715, 0.915981092416994, 0.9315123213147808]\n"
          ],
          "name": "stdout"
        },
        {
          "output_type": "display_data",
          "data": {
            "image/png": "[encoded data removed]",
            "text/plain": [
              "<Figure size 432x288 with 1 Axes>"
            ]
          },
          "metadata": {
            "tags": [],
            "needs_background": "light"
          }
        }
      ]
    },
    {
      "cell_type": "markdown",
      "metadata": {
        "id": "GXgFpxIgl-_G",
        "colab_type": "text"
      },
      "source": [
        "### 2.1.1. Data Preprocessing for Word Embeddings"
      ]
    },
    {
      "cell_type": "markdown",
      "metadata": {
        "id": "qJrVHGYSmYMg",
        "colab_type": "text"
      },
      "source": [
        "The dataset of this task is really large, and since it contains 50,000 reviews on the internet typed by different people, some of the words are really rare and not easy to understand. From the above figure, we can see that the average frequency of all words is 27.6. I preprocess the data by deleting the unique words that appear less than 10 times to reduce the rare words and make the dataset cleaner. It will be helpful for us to learn from frequent words and their context words for further implementations.\n",
        "\n",
        "The preprocessed data from the training set is applied in this word embedding model. In total, there are 25,000 reviews and 48,012 unique words. \n"
      ]
    },
    {
      "cell_type": "code",
      "metadata": {
        "id": "862Sirpv0iGk",
        "colab_type": "code",
        "colab": {}
      },
      "source": [
        "for each_review in reviews_train_le:\n",
        "  for each_word in each_review:\n",
        "    if total_words.get(each_word) < 10:\n",
        "      each_review.remove(each_word)\n",
        "\n",
        "for each_review in reviews_test_le:\n",
        "  for each_word in each_review:\n",
        "    if total_words.get(each_word) < 10:\n",
        "      each_review.remove(each_word)\n",
        "  \n",
        "review_train_word_preprocess = []\n",
        "for i in reviews_train_le:\n",
        "  review_train_word_preprocess.append(i)\n",
        "\n",
        "review_test_word_preprocess = []\n",
        "for i in reviews_test_le:\n",
        "  review_test_word_preprocess.append(i)"
      ],
      "execution_count": 0,
      "outputs": []
    },
    {
      "cell_type": "code",
      "metadata": {
        "id": "0tI2-kdwnx1u",
        "colab_type": "code",
        "outputId": "a3dce48b-7398-4df2-b84b-456cba5189a1",
        "colab": {
          "base_uri": "https://localhost:8080/",
          "height": 52
        }
      },
      "source": [
        "print(len(review_train_word_preprocess))\n",
        "print(len(review_test_word_preprocess))"
      ],
      "execution_count": 5,
      "outputs": [
        {
          "output_type": "stream",
          "text": [
            "25000\n",
            "25000\n"
          ],
          "name": "stdout"
        }
      ]
    },
    {
      "cell_type": "code",
      "metadata": {
        "id": "3LByzHLiNinu",
        "colab_type": "code",
        "outputId": "5909e4fa-0cc1-4f4a-a4ef-a30043a90bcb",
        "colab": {
          "base_uri": "https://localhost:8080/",
          "height": 104
        }
      },
      "source": [
        "# Only keep the unique words which appear more than 10 times in the reviews dataset\n",
        "# Use .sort() to make the order same\n",
        "word_sequence = []\n",
        "for each_review in review_train_word_preprocess:\n",
        "  for each_word in each_review:\n",
        "    word_sequence.append(each_word)\n",
        "for each_review in review_test_word_preprocess:\n",
        "  for each_word in each_review:\n",
        "    word_sequence.append(each_word)\n",
        "\n",
        "print(len(word_sequence))\n",
        "\n",
        "word_list= list(set(word_sequence))\n",
        "word_list.sort()\n",
        "\n",
        "# Build a dictionary for the unique words, the key is each unique word, the value of each key is the index number\n",
        "word_dict = {w: i for i, w in enumerate(word_list)}\n",
        "\n",
        "# Build Skip-Gram model with window size = 2\n",
        "skip_grams = []\n",
        "for i in range(2, len(word_sequence) - 2):\n",
        "    # Since the window size is 2, we need to analyse the target word (center word) with each of the two words before and two words after it.\n",
        "    target = word_dict[word_sequence[i]]\n",
        "    context = [word_dict[word_sequence[i - 1]], word_dict[word_sequence[i - 2]], word_dict[word_sequence[i + 1]], word_dict[word_sequence[i + 2]]]\n",
        "\n",
        "    # skipgrams: (target, context[0]), (target, context[1])..\n",
        "    for w in context:\n",
        "        skip_grams.append([target, w])\n",
        "\n",
        "print(len(word_dict))   \n",
        "print(skip_grams[0]) \n",
        "print(len(skip_grams)) \n",
        "# there are 48012 unique words in \n",
        "voc_size = len(word_list)\n",
        "print(voc_size)\n"
      ],
      "execution_count": 5,
      "outputs": [
        {
          "output_type": "stream",
          "text": [
            "5519975\n",
            "48012\n",
            "[19264, 28347]\n",
            "22079884\n",
            "48012\n"
          ],
          "name": "stdout"
        }
      ]
    },
    {
      "cell_type": "code",
      "metadata": {
        "id": "SVLl2hKFE7OM",
        "colab_type": "code",
        "outputId": "62f91fba-7245-47c6-946d-b32269859a04",
        "colab": {
          "base_uri": "https://localhost:8080/",
          "height": 35
        }
      },
      "source": [
        "voc_size = len(word_list)\n",
        "print(voc_size)\n",
        "# prepare random batch from skip-gram - we do not have enought data so we randomly select data\n",
        "def prepare_batch(data, size):\n",
        "    random_inputs = []\n",
        "    random_labels = []\n",
        "    random_index = np.random.choice(range(len(data)), size, replace=False)\n",
        "\n",
        "    for i in random_index:\n",
        "        input_temp = [0]*voc_size\n",
        "        input_temp[data[i][0]] = 1\n",
        "        random_inputs.append(input_temp)  # target\n",
        "        random_labels.append(data[i][1])  # context word\n",
        "\n",
        "    return np.array(random_inputs), np.array(random_labels)"
      ],
      "execution_count": 6,
      "outputs": [
        {
          "output_type": "stream",
          "text": [
            "48012\n"
          ],
          "name": "stdout"
        }
      ]
    },
    {
      "cell_type": "markdown",
      "metadata": {
        "id": "qhAgWf_AmbZ8",
        "colab_type": "text"
      },
      "source": [
        "### 2.1.2. Build Word Embeddings Model"
      ]
    },
    {
      "cell_type": "markdown",
      "metadata": {
        "id": "AJ8rU7JbiBVS",
        "colab_type": "text"
      },
      "source": [
        "The selected hyperparameters and the explanations are listed as follows.\n",
        "\n",
        "#### Learning rate = 0.01 \n",
        "A small learning rate may cause the loss to decrease and converge very slowly, while a large learning rate will make bigger updates, and the loss may reach the local minimum or even explode. Therefore the learning rate should not be too small or too big. For training the word embedding model, I first set the learning rate to be 0.001, but the loss decreases very slowly, then I set the learning rate to 0.01, and the loss decreases continuously. \n",
        "</br>\n",
        "</br>\n",
        "#### Batch size = 1024\n",
        "Since both the CPU and GPU memory are stored in binary, it makes sense to set the batch size to a power of 2. For the reason that our task aims to predict the sentiment to be negative or positive, I prefer to select a batch size that is not small for gaining a better representation of the training samples. Moreover, within a reasonable range, the memory utilization can be increased, the parallelization efficiency can be improved. Additionally, the number of iterations that need to complete an epoch can be reduced. I have tried 512, 1024, and 2048, when batch size is 1,024, the loss improves (decreases) the best. Hence, I select 1024 to be the batch size.\n",
        "</br>\n",
        "</br>\n",
        "#### Embedding Size = 100\n",
        "Larger embedding size may not damage the performance of the model itself.\n",
        "</br>\n",
        "</br>\n",
        "#### Number of epochs = 200\n",
        "First, I tried the total epoch number of 500, but then I found that the loss even does not decrease continuously when the epoch of a large number. Then I tried 200, and it performed well and fast. Therefore the dataset is trained for 200 epochs. After 200 epochs, the loss decreases from 10.7599 to 8.4932.\n",
        "</br>\n",
        "</br>\n",
        "#### Shown interval = 10\n",
        "The loss value and its corresponding epoch is shown by every 10 epochs.\n",
        "</br>\n",
        "</br>"
      ]
    },
    {
      "cell_type": "code",
      "metadata": {
        "id": "TVPuwWgvNjOU",
        "colab_type": "code",
        "colab": {}
      },
      "source": [
        "# Please comment your code\n",
        "#hyperparameters\n",
        "learning_rate = 0.01\n",
        "batch_size = 1024\n",
        "embedding_size = 100\n",
        "no_of_epochs = 200\n",
        "word_epoch_interval = 10"
      ],
      "execution_count": 0,
      "outputs": []
    },
    {
      "cell_type": "markdown",
      "metadata": {
        "id": "oHkzDc9eLahw",
        "colab_type": "text"
      },
      "source": [
        "\n",
        "#### Word Embedding Model\n",
        "As I mentioned before, Word2Vec-SkipGram is applied to be the word embedding model. Since the dataset contains many unique or rare words, and for the purpose of predicting the context words better. Here I set the window size of skip-gram to be 2. Both the 2 words before and after each target word will be seen as its context. If the size is 1, it may be hard to analyze the word and make a prediction, if the size is too big, it will make the model too complex. Finally, I select 2, which is also a commonly used window size for the implementation of skip-gram models.\n",
        "\n",
        "\n",
        "\n",
        "\n"
      ]
    },
    {
      "cell_type": "code",
      "metadata": {
        "id": "9UPfh4jsZ6vy",
        "colab_type": "code",
        "colab": {}
      },
      "source": [
        "import torch\n",
        "import torch.nn as nn\n",
        "import torch.optim as optim\n",
        "device = torch.device(\"cuda\" if torch.cuda.is_available() else \"cpu\")\n",
        "import matplotlib\n",
        "import matplotlib.pyplot as plt\n",
        "\n",
        "class SkipGram(nn.Module):\n",
        "    def __init__(self):\n",
        "        super(SkipGram, self).__init__()\n",
        "        self.linear1 = nn.Linear(voc_size, embedding_size, bias=False)\n",
        "        self.linear2 = nn.Linear(embedding_size, voc_size, bias=False)\n",
        "\n",
        "    def forward(self, x):\n",
        "        hidden = self.linear1(x)\n",
        "        out = self.linear2(hidden)\n",
        "        return out\n",
        "\n",
        "skip_gram_model = SkipGram().to(device)\n",
        "criterion = nn.CrossEntropyLoss()\n",
        "optimiser = optim.Adam(skip_gram_model.parameters(), lr=learning_rate)\n",
        "\n",
        "epochs = []\n",
        "loss_values = []"
      ],
      "execution_count": 0,
      "outputs": []
    },
    {
      "cell_type": "markdown",
      "metadata": {
        "id": "LNys5HOdISK-",
        "colab_type": "text"
      },
      "source": [
        "### 2.1.3. Train Word Embeddings Model"
      ]
    },
    {
      "cell_type": "markdown",
      "metadata": {
        "id": "mubYrdqULmzG",
        "colab_type": "text"
      },
      "source": [
        "The following graph shows the loss values among different epochs. We can see that the loss decreases (improves) rapidly and sharply at the beginning, and then decreases slowly with fluctuations after epoch 100. Finally become eventually stable. The loss improves (decreases) from 10.7599 to 8.4932.\n",
        "Among these shown epochs, epoch 180 has the lowest loss of 8.4867."
      ]
    },
    {
      "cell_type": "code",
      "metadata": {
        "id": "Ae8i7Z2kIef-",
        "colab_type": "code",
        "outputId": "8a6d7fb2-2426-49ac-9995-0be9df2040a5",
        "colab": {
          "base_uri": "https://localhost:8080/",
          "height": 622
        }
      },
      "source": [
        "for epoch in range(no_of_epochs):\n",
        "\n",
        "    inputs, word_emb_labels = prepare_batch(skip_grams, batch_size)\n",
        "    inputs_torch = torch.from_numpy(inputs).float().to(device)\n",
        "    labels_torch = torch.from_numpy(word_emb_labels).to(device)\n",
        " \n",
        "    # 1. zero grad\n",
        "    skip_gram_model.train()\n",
        "    optimiser.zero_grad()\n",
        "\n",
        "    # 2. forword propagation\n",
        "    outputs = skip_gram_model(inputs_torch)\n",
        "\n",
        "    # 3. calculate loss\n",
        "    loss = criterion(outputs, labels_torch)\n",
        "    # 4. back propagation\n",
        "    #compute gradients\n",
        "    loss.backward()\n",
        "    optimiser.step()\n",
        "    \n",
        "    epochs.append(epoch)\n",
        "    loss_values.append(loss)\n",
        "   \n",
        "    if epoch % word_epoch_interval == word_epoch_interval - 1: \n",
        "       print('Epoch: %d, loss: %.4f' %(epoch + 1, loss))\n",
        "       \n",
        "print('Finished Training Word Embedding Model')\n",
        "plt.plot(epochs, loss_values, 'r', label = 'Training Loss of Word Embedding Model')\n",
        "plt.show()"
      ],
      "execution_count": 0,
      "outputs": [
        {
          "output_type": "stream",
          "text": [
            "Epoch: 10, loss: 10.7599\n",
            "Epoch: 20, loss: 10.4262\n",
            "Epoch: 30, loss: 9.5815\n",
            "Epoch: 40, loss: 9.0385\n",
            "Epoch: 50, loss: 9.0107\n",
            "Epoch: 60, loss: 8.9329\n",
            "Epoch: 70, loss: 8.7545\n",
            "Epoch: 80, loss: 8.8311\n",
            "Epoch: 90, loss: 8.6862\n",
            "Epoch: 100, loss: 8.6499\n",
            "Epoch: 110, loss: 8.6167\n",
            "Epoch: 120, loss: 8.7806\n",
            "Epoch: 130, loss: 8.7042\n",
            "Epoch: 140, loss: 8.6294\n",
            "Epoch: 150, loss: 8.6542\n",
            "Epoch: 160, loss: 8.6851\n",
            "Epoch: 170, loss: 8.6278\n",
            "Epoch: 180, loss: 8.4867\n",
            "Epoch: 190, loss: 8.5558\n",
            "Epoch: 200, loss: 8.4932\n",
            "Finished Training Word Embedding Model\n"
          ],
          "name": "stdout"
        },
        {
          "output_type": "display_data",
          "data": {
            "image/png": "[encoded data removed]",
            "text/plain": [
              "<Figure size 432x288 with 1 Axes>"
            ]
          },
          "metadata": {
            "tags": [],
            "needs_background": "light"
          }
        }
      ]
    },
    {
      "cell_type": "markdown",
      "metadata": {
        "id": "uMCv3YI1IfUo",
        "colab_type": "text"
      },
      "source": [
        "### 2.1.4. Save Word Embeddings Model"
      ]
    },
    {
      "cell_type": "code",
      "metadata": {
        "id": "3OwicNPkIqd1",
        "colab_type": "code",
        "outputId": "c6017524-68bd-4d49-b3f6-f5347c5388e0",
        "colab": {
          "base_uri": "https://localhost:8080/",
          "height": 71
        }
      },
      "source": [
        "# Save the word embedding model\n",
        "torch.save(skip_gram_model, 'word_embedding_model.pt')"
      ],
      "execution_count": 0,
      "outputs": [
        {
          "output_type": "stream",
          "text": [
            "/usr/local/lib/python3.6/dist-packages/torch/serialization.py:360: UserWarning: Couldn't retrieve source code for container of type SkipGram. It won't be checked for correctness upon loading.\n",
            "  \"type \" + obj.__name__ + \". It won't be checked \"\n"
          ],
          "name": "stderr"
        }
      ]
    },
    {
      "cell_type": "markdown",
      "metadata": {
        "id": "Yn16xrDrIs8B",
        "colab_type": "text"
      },
      "source": [
        "### 2.1.5. Load Word Embeddings Model"
      ]
    },
    {
      "cell_type": "code",
      "metadata": {
        "id": "-IebpYFsIvgh",
        "colab_type": "code",
        "outputId": "25ed67f3-e007-4dcf-e139-54716b32e239",
        "colab": {
          "base_uri": "https://localhost:8080/",
          "height": 87
        }
      },
      "source": [
        "# Please run this code section to load the word embedding model\n",
        "import torch\n",
        "word_embedding_model = torch.load('word_embedding_model.pt')\n",
        "word_embedding_model.eval()"
      ],
      "execution_count": 9,
      "outputs": [
        {
          "output_type": "execute_result",
          "data": {
            "text/plain": [
              "SkipGram(\n",
              "  (linear1): Linear(in_features=48012, out_features=100, bias=False)\n",
              "  (linear2): Linear(in_features=100, out_features=48012, bias=False)\n",
              ")"
            ]
          },
          "metadata": {
            "tags": []
          },
          "execution_count": 9
        }
      ]
    },
    {
      "cell_type": "markdown",
      "metadata": {
        "id": "cOc6mOYdL6Zv",
        "colab_type": "text"
      },
      "source": [
        "\n",
        "The words are embedded in vectors to present their meanings. I create a dictionary for store them better, the key of the word embedding dictionary is the words in the word list, and the value of the word is the word embeddings of the corresponding word."
      ]
    },
    {
      "cell_type": "code",
      "metadata": {
        "id": "vjtwvw5-WtD4",
        "colab_type": "code",
        "outputId": "9b632480-8caf-4fc7-d5f7-a0d5d7688426",
        "colab": {
          "base_uri": "https://localhost:8080/",
          "height": 52
        }
      },
      "source": [
        "weight_of_sg = word_embedding_model.linear1.weight\n",
        "print(weight_of_sg.shape)\n",
        "trained_word_embeddings = weight_of_sg.detach().T.numpy()\n",
        "print(trained_word_embeddings.shape)"
      ],
      "execution_count": 10,
      "outputs": [
        {
          "output_type": "stream",
          "text": [
            "torch.Size([100, 48012])\n",
            "(48012, 100)\n"
          ],
          "name": "stdout"
        }
      ]
    },
    {
      "cell_type": "code",
      "metadata": {
        "id": "8OzybIQBHkSD",
        "colab_type": "code",
        "outputId": "6f4ef8fd-d826-4548-e5c7-51415ab32580",
        "colab": {
          "base_uri": "https://localhost:8080/",
          "height": 35
        }
      },
      "source": [
        "# The key is the word, the value is the word embedding\n",
        "word_embeddings_dic = {}\n",
        "for i in range(len(word_list)):\n",
        "  word_embeddings_dic[word_list[i]] = trained_word_embeddings[i].tolist()\n",
        "print(len(word_embeddings_dic))"
      ],
      "execution_count": 11,
      "outputs": [
        {
          "output_type": "stream",
          "text": [
            "48012\n"
          ],
          "name": "stdout"
        }
      ]
    },
    {
      "cell_type": "markdown",
      "metadata": {
        "colab_type": "text",
        "id": "T0ap96aeGlIk"
      },
      "source": [
        "## 2.2. Character Embeddings"
      ]
    },
    {
      "cell_type": "markdown",
      "metadata": {
        "colab_type": "text",
        "id": "d16v3oKaGlI0"
      },
      "source": [
        "### 2.2.1. Data Preprocessing for Character Embeddings"
      ]
    },
    {
      "cell_type": "markdown",
      "metadata": {
        "colab_type": "text",
        "id": "AKbLnN-3GlI1"
      },
      "source": [
        "The following figure represents the rate of the words whose character lengths are shorter than the set limitation values such as the average length, the counts of length, length of 10, length of 15, and length of the double average. The longest word has a character length of 72, which is really long and will cost much more training time. The average length of all words in the dataset is 7.88, and the counts of the length is 7, which is similar to the average value. The double average value is 15.76. Since the length of a word must be an integer, therefore the double average value should be represented by 16. </br>\n",
        "\n",
        "From the figure, we can observe that more than 95% of the words are within the length limitation of 16, which can cover most of the words. Therefore I finally set the word length limitation to be 16. Then I do the preprocessing method of adding paddings to the words. For the words that are longer than 16, we will only keep its first 16 characters, and for the words that are shorter than 16, we will add paddings “?” to the words to keep all words with the same length. \n"
      ]
    },
    {
      "cell_type": "code",
      "metadata": {
        "id": "OrosvzWhWGYk",
        "colab_type": "code",
        "outputId": "f6e793b2-74f1-4701-e49c-c12500d8d7c6",
        "colab": {
          "base_uri": "https://localhost:8080/",
          "height": 353
        }
      },
      "source": [
        "import matplotlib\n",
        "import matplotlib.pyplot as plt\n",
        "\n",
        "word_lengths = []\n",
        "\n",
        "for each_word in word_list:\n",
        "  length_of_word = len(each_word)\n",
        "  word_lengths.append(length_of_word)\n",
        "\n",
        "length_of_longest = max(word_lengths)\n",
        "average_length = np.mean(word_lengths)\n",
        "counts = np.bincount(word_lengths)\n",
        "counts = np.argmax(counts)\n",
        "double_mean = 2*average_length\n",
        "print(length_of_longest)\n",
        "print(average_length)\n",
        "print(counts)\n",
        "print(double_mean)\n",
        "words_shorter_than_mean = 0\n",
        "words_shorter_than_counts = 0\n",
        "words_shorter_than_10 = 0\n",
        "words_shorter_than_15 = 0\n",
        "words_shorter_than_double_mean = 0\n",
        "\n",
        "\n",
        "for each_length in word_lengths:\n",
        "  if each_length < average_length:\n",
        "    words_shorter_than_mean += 1\n",
        "  if each_length < counts:\n",
        "    words_shorter_than_counts += 1\n",
        "  if each_length < 10:\n",
        "    words_shorter_than_10 += 1\n",
        "  if each_length < 15:\n",
        "    words_shorter_than_15 += 1\n",
        "  if each_length < double_mean:\n",
        "    words_shorter_than_double_mean += 1\n",
        " \n",
        "limits = [counts, average_length, 10, 15, double_mean]\n",
        "rate_of_word_shorter_than_limit = [words_shorter_than_counts/voc_size, words_shorter_than_mean/voc_size, words_shorter_than_10/voc_size, words_shorter_than_15/voc_size, words_shorter_than_double_mean/voc_size]\n",
        "print(rate_of_word_shorter_than_limit)\n",
        "plt.plot(limits, rate_of_word_shorter_than_limit, 'g', label = 'Rate of words that are shorter than limit')\n",
        "plt.show()\n",
        "  \n"
      ],
      "execution_count": 0,
      "outputs": [
        {
          "output_type": "stream",
          "text": [
            "72\n",
            "7.881904523869033\n",
            "7\n",
            "15.763809047738066\n",
            "[0.3592643505790219, 0.5088519536782471, 0.7510830625676914, 0.9697992168624511, 0.9800674831292177]\n"
          ],
          "name": "stdout"
        },
        {
          "output_type": "display_data",
          "data": {
            "image/png": "[encoded data removed]",
            "text/plain": [
              "<Figure size 432x288 with 1 Axes>"
            ]
          },
          "metadata": {
            "tags": [],
            "needs_background": "light"
          }
        }
      ]
    },
    {
      "cell_type": "code",
      "metadata": {
        "id": "7HdlKHOg-ZyV",
        "colab_type": "code",
        "outputId": "a58eb308-7757-4a1a-db42-17894ded7cc4",
        "colab": {
          "base_uri": "https://localhost:8080/",
          "height": 35
        }
      },
      "source": [
        "# Select a length for each word\n",
        "word_len_limit = 16\n",
        "\n",
        "def add_padding(corpus, word_len_limit):\n",
        "    output = []\n",
        "    for word in corpus:\n",
        "        if len(word) > word_len_limit:\n",
        "            output.append(word[:word_len_limit])\n",
        "        else:\n",
        "            for j in range(word_len_limit - len(word)):\n",
        "                word +=\"?\"\n",
        "            output.append(word)\n",
        "    return output\n",
        "\n",
        "words_pad = add_padding(word_list, word_len_limit)\n",
        "print(len(words_pad))"
      ],
      "execution_count": 12,
      "outputs": [
        {
          "output_type": "stream",
          "text": [
            "48012\n"
          ],
          "name": "stdout"
        }
      ]
    },
    {
      "cell_type": "markdown",
      "metadata": {
        "id": "wIp_tGLyMhen",
        "colab_type": "text"
      },
      "source": [
        "Since for developing the character embedding model, we need to use the one-hot vector to represent each word, therefore it is better for us to make the length of words to be the same for process the dataset better. \n",
        "\n",
        "First, the lengths of words are kept the same with length 16 by removing additional characters if words are longer than16 or by adding character padding of “?”. \n",
        "\n",
        "Second, I store all unique characters to a list. There are 77 unique characters in total.\n",
        "\n",
        "Third, I build a character dictionary which records the character and its index representations. The key is each unique character, and the value is the index number of the character.\n",
        "\n",
        "Fourth, I convert each character in each word to the index which is stored in the character dictionary.\n",
        "Fifth, I convert the index-represented characters to their one-hot vectors. \n",
        "\n",
        "Finally, I used the word embeddings dictionary which is created in the previous section to gain the word embeddings of each word. Therefore, the input batch is the word in the format of one-hot vector and the target batch is the word embedding of the corresponding word.\n"
      ]
    },
    {
      "cell_type": "code",
      "metadata": {
        "colab_type": "code",
        "id": "i2CUCL1cGlI2",
        "outputId": "c11e4824-c1cd-4cfb-ad86-2c795db9f6c6",
        "colab": {
          "base_uri": "https://localhost:8080/",
          "height": 124
        }
      },
      "source": [
        "# Please comment your code\n",
        "import numpy as np\n",
        "print(len(words_pad))\n",
        "print(len(words_pad[0]))\n",
        "# Build a list to store all characters in the reviews\n",
        "chars = []\n",
        "for each_word in words_pad:\n",
        "  for each_char in each_word:\n",
        "    chars.append(each_char)\n",
        "\n",
        "char_list = list(set(chars))\n",
        "char_list.sort()\n",
        "print(char_list)\n",
        "\n",
        "# one-hot encoding and decoding \n",
        "# {'a': 0, 'b': 1, 'c': 2, ..., 'j': 9, 'k', 10, ...}\n",
        "# Build a dictionary for the unique characters, the key is each unique character, the value of each key is the index number\n",
        "num_dic = {n: i for i, n in enumerate(char_list)}\n",
        "dic_len = len(num_dic)\n",
        "print(num_dic)\n",
        "# There are 77 characters in total (76 char + padding '?')\n",
        "print(dic_len)\n",
        "\n",
        "# Make a batch to have sequence data for input and ouput\n",
        "# The input is each character in each word\n",
        "# The target is the embedding of the word that the character from. The pre-trained word embeddings are from the word embedding model in section 2.1\n",
        "\n",
        "# First, we need to create a dictionary of the words and their pre-trained word embeddings\n",
        "# We already got trained_word_embeddings in section 2.1.3. \n",
        "# In this word_embeddings_dic dictionary, the key is the word, the value is the trained_word_embedding value of the word\n",
        "\n",
        "\n",
        "def make_batch(seq_data):\n",
        "  input_batch = []\n",
        "  target_batch = []\n",
        "  search_index = 0\n",
        "  for each_word in seq_data:\n",
        "    inputdata = []\n",
        "    for each_char in each_word:\n",
        "      inputdata.append(num_dic[each_char]) # get the value of num_dic, which is the index number\n",
        "      # for the target, we need to search the embedding of the word in the word embedding model\n",
        "\n",
        "      # convert input to one-hot encoding.   generate the input\n",
        "      # if input is [3, 4, 4]:\n",
        "      # [[ 0,  0,  0,  1,  0,  0,  0, ... 0]\n",
        "      #  [ 0,  0,  0,  0,  1,  0,  0, ... 0]\n",
        "      #  [ 0,  0,  0,  0,  1,  0,  0, ... 0]]\n",
        "    onehot = np.eye(dic_len)[inputdata]\n",
        "    input_batch.append(onehot)\n",
        "\n",
        "    for index, word_of_index in enumerate(seq_data):\n",
        "      if word_of_index == each_word:\n",
        "        search_index = index\n",
        "    target_word = word_list[search_index]  # get the word\n",
        "    target_embedding = word_embeddings_dic.get(target_word) # get the word embedding\n",
        "    # target_embedding = target_embedding\n",
        "    target_batch.append(target_embedding)\n",
        "  return input_batch, target_batch"
      ],
      "execution_count": 13,
      "outputs": [
        {
          "output_type": "stream",
          "text": [
            "48012\n",
            "16\n",
            "['0', '1', '2', '3', '4', '5', '6', '7', '8', '9', '?', '_', 'a', 'b', 'c', 'd', 'e', 'f', 'g', 'h', 'i', 'j', 'k', 'l', 'm', 'n', 'o', 'p', 'q', 'r', 's', 't', 'u', 'v', 'w', 'x', 'y', 'z', '³', '½', 'ß', 'à', 'á', 'â', 'ã', 'ä', 'å', 'æ', 'ç', 'è', 'é', 'ê', 'ë', 'ì', 'í', 'î', 'ï', 'ð', 'ñ', 'ò', 'ó', 'ô', 'õ', 'ö', 'ø', 'ù', 'ú', 'û', 'ü', 'ý', 'þ', 'ğ', 'ו', 'כ', 'מ', 'ן', 'ר']\n",
            "{'0': 0, '1': 1, '2': 2, '3': 3, '4': 4, '5': 5, '6': 6, '7': 7, '8': 8, '9': 9, '?': 10, '_': 11, 'a': 12, 'b': 13, 'c': 14, 'd': 15, 'e': 16, 'f': 17, 'g': 18, 'h': 19, 'i': 20, 'j': 21, 'k': 22, 'l': 23, 'm': 24, 'n': 25, 'o': 26, 'p': 27, 'q': 28, 'r': 29, 's': 30, 't': 31, 'u': 32, 'v': 33, 'w': 34, 'x': 35, 'y': 36, 'z': 37, '³': 38, '½': 39, 'ß': 40, 'à': 41, 'á': 42, 'â': 43, 'ã': 44, 'ä': 45, 'å': 46, 'æ': 47, 'ç': 48, 'è': 49, 'é': 50, 'ê': 51, 'ë': 52, 'ì': 53, 'í': 54, 'î': 55, 'ï': 56, 'ð': 57, 'ñ': 58, 'ò': 59, 'ó': 60, 'ô': 61, 'õ': 62, 'ö': 63, 'ø': 64, 'ù': 65, 'ú': 66, 'û': 67, 'ü': 68, 'ý': 69, 'þ': 70, 'ğ': 71, 'ו': 72, 'כ': 73, 'מ': 74, 'ן': 75, 'ר': 76}\n",
            "77\n"
          ],
          "name": "stdout"
        }
      ]
    },
    {
      "cell_type": "markdown",
      "metadata": {
        "colab_type": "text",
        "id": "zgiOPcsTGlI6"
      },
      "source": [
        "### 2.2.2. Build Character Embeddings Model"
      ]
    },
    {
      "cell_type": "markdown",
      "metadata": {
        "colab_type": "text",
        "id": "4NtqFFcjGlI7"
      },
      "source": [
        "The selected hyperparameters and the explanations are listed as follows.\n",
        "\n",
        "#### Learning rate = 0.1\n",
        "First, I tried to use the learning rate of 0.01, but the loss became extremely small. Then I tried to use a learning rate of  0.1, and the character embedding model works better.\n",
        "</br>\n",
        "</br>\n",
        "#### Number of hidden nodes = Embedding size/2 = 50\n",
        "Based on the working principle of the word embedding model and word based character embedding model, the embeddings are as the input of RNN, therefore  the number of the hidden nodes has to be the same with the embedding size. As in the linear layer of Bi-LSTM contains 2*hidden nodes, the number of hidden nodes here is selected to be Embedding size/2, which is 50.\n",
        "</br>\n",
        "</br>\n",
        "#### Epoch number: 50\n",
        "I tried the epoch = 100 at first, but epoch = 50 performs better and faster.\n",
        "</br>\n",
        "</br>\n",
        "#### Batch size = 1024\n",
        "Since both the CPU and GPU memory are stored in binary, it makes sense to set the batch size to a power of 2. For the reason that our task aims to predict the sentiment to be negative or positive, I prefer to select a batch size that is not small for gaining a better representation of the training samples. Moreover, within a reasonable range, the memory utilization can be increased, the parallelization efficiency can be improved. Additionally, the number of iterations that need to complete an epoch can be reduced. I have tried 512, 1024, and 2048, when batch size is 1,024, the loss improves (decreases) the best. Hence, I select 1024 to be the batch size.\n",
        "</br>\n",
        "</br>\n",
        "#### Number of sequences for RNN is 3\n",
        "</br>\n",
        "</br>\n",
        "#### Number of inputs: 77\n",
        "The number of inputs should be the same as the dimension of input vector, which is 77.\n",
        "</br>\n",
        "</br>\n",
        "#### Number of Classes: 100\n",
        "The number of classes should be the same as the embedding size.\n",
        "</br>\n",
        "</br>\n",
        "#### Shown epoch interval = 2\n",
        "Print the loss value and its corresponding epoch with an interval of 2.\n",
        "\n"
      ]
    },
    {
      "cell_type": "code",
      "metadata": {
        "colab_type": "code",
        "id": "jj3YZ3PWGlI8",
        "outputId": "55838dd5-9e2f-4adf-e180-7ed5aaf14190",
        "colab": {
          "base_uri": "https://localhost:8080/",
          "height": 35
        }
      },
      "source": [
        "# Please comment your code\n",
        "\n",
        "#Hyperparameter Selection\n",
        "learning_rate_of_char = 0.1\n",
        "n_hidden_of_char = 50\n",
        "total_epoch_of_char = 50\n",
        "# total_epoch_of_char = 100\n",
        "char_batch = 1024\n",
        "# Number of sequences for RNN\n",
        "n_step = 3\n",
        "# number of inputs (dimension of input vector) = 77\n",
        "n_input = dic_len\n",
        "# number of classes = 100\n",
        "n_class = 100\n",
        "char_epoch_interval = 2\n",
        "print(n_input)"
      ],
      "execution_count": 14,
      "outputs": [
        {
          "output_type": "stream",
          "text": [
            "77\n"
          ],
          "name": "stdout"
        }
      ]
    },
    {
      "cell_type": "markdown",
      "metadata": {
        "id": "tnTUjHwMrQgX",
        "colab_type": "text"
      },
      "source": [
        "For the character embedding model, I used **Bi-LSTM**, which contains bi-directions long short term memory. It can be seen as putting two RNN together in one model. Since the bi-directional structure, enables us to gain the forward and backward at each update. Therefore Bi-LSTM can get use of the context words better than other RNNs since it can get information from two directions. For this task, we really need to use Bi-LSTM to analyze the semantics of the reviews better.\n",
        "\n",
        "Here for calculating the loss, I use the Mean Squared Error loss function (MSE), which is very popular for loss computation. It can estimate the average of the squared errors. It is a non-zero number and can see the distance between the predicted result with the ground truth. For the optimation function, I use Adam here, which has the best performance."
      ]
    },
    {
      "cell_type": "code",
      "metadata": {
        "id": "uwq3esYqrRgm",
        "colab_type": "code",
        "outputId": "9d3ec4f0-b45a-41c4-bd45-1127f6433c2f",
        "colab": {
          "base_uri": "https://localhost:8080/",
          "height": 72
        }
      },
      "source": [
        "import torch.nn as nn\n",
        "import torch.nn.functional as F\n",
        "import torch.optim as optim\n",
        "from sklearn.metrics import accuracy_score\n",
        "\n",
        "# We use Bi-LSTM here\n",
        "class Net(nn.Module):\n",
        "    def __init__(self):\n",
        "        super(Net, self).__init__()\n",
        "        self.lstm = nn.LSTM(n_input, n_hidden_of_char, batch_first =True, bidirectional=True, dropout=0.2)\n",
        "        self.linear = nn.Linear(n_hidden_of_char*2, n_class)\n",
        "\n",
        "    def forward(self, sentence):\n",
        "        \n",
        "        #h_n of shape (num_layers * num_directions, batch, hidden_size): tensor containing the hidden state for t = seq_len.\n",
        "        lstm_out, (h_n,c_n) = self.lstm(sentence)\n",
        "        #concat the last hidden state from two direction\n",
        "        hidden_out =torch.cat((h_n[0,:,:],h_n[1,:,:]),1)\n",
        "        z = self.linear(hidden_out)\n",
        "        return z, hidden_out\n",
        "\n",
        "# Move the model to GPU\n",
        "char_model = Net().to(device)\n",
        "# Loss function and optimizer\n",
        "criterion_of_char = nn.MSELoss()\n",
        "optimizer_of_char = optim.Adam(char_model.parameters(), lr=learning_rate_of_char)\n",
        "\n",
        "# Preparing input\n",
        "#input_batch_of_char_model contains the chars in each word, target_batch_of_char_model contains embeddings of each word\n",
        "\n"
      ],
      "execution_count": 15,
      "outputs": [
        {
          "output_type": "stream",
          "text": [
            "/usr/local/lib/python3.6/dist-packages/torch/nn/modules/rnn.py:50: UserWarning: dropout option adds dropout after all but last recurrent layer, so non-zero dropout expects num_layers greater than 1, but got dropout=0.2 and num_layers=1\n",
            "  \"num_layers={}\".format(dropout, num_layers))\n"
          ],
          "name": "stderr"
        }
      ]
    },
    {
      "cell_type": "code",
      "metadata": {
        "id": "D9wfIStSzZNI",
        "colab_type": "code",
        "colab": {
          "base_uri": "https://localhost:8080/",
          "height": 69
        },
        "outputId": "bdc18908-c819-4b70-c557-b4afd23f2f70"
      },
      "source": [
        "input_batch_of_char_model, target_batch_of_char_model = make_batch(words_pad)\n",
        "print(len(input_batch_of_char_model))\n",
        "print(len(target_batch_of_char_model))\n",
        "\n",
        "total_data_num = len(words_pad)  #48012\n",
        "print(total_data_num)"
      ],
      "execution_count": 16,
      "outputs": [
        {
          "output_type": "stream",
          "text": [
            "48012\n",
            "48012\n",
            "48012\n"
          ],
          "name": "stdout"
        }
      ]
    },
    {
      "cell_type": "markdown",
      "metadata": {
        "id": "7B6SVXf4OT_3",
        "colab_type": "text"
      },
      "source": [
        "For the purpose of running all data samples, I also write a create_mini_batches function to make batches of the inputs and targets.\n"
      ]
    },
    {
      "cell_type": "code",
      "metadata": {
        "id": "0xzqayvmpm0K",
        "colab_type": "code",
        "colab": {}
      },
      "source": [
        "import matplotlib\n",
        "import matplotlib.pyplot as plt\n",
        "\n",
        "def create_mini_batches(inputs, targets, mini_batch_size, iterator_num):\n",
        "  num_iterations = int(total_data_num/mini_batch_size) + 1  # 46+1=47\n",
        "  batch_inputs = []\n",
        "  batch_targets = []\n",
        "\n",
        "  if iterator_num >=0 and iterator_num <= int(total_data_num/mini_batch_size)-1:\n",
        "    from_index = iterator_num * mini_batch_size\n",
        "    to_index = (iterator_num + 1) * mini_batch_size - 1\n",
        "\n",
        "  else:\n",
        "    from_index = iterator_num * mini_batch_size \n",
        "    to_index = total_data_num - 1\n",
        "\n",
        "  for index in range(from_index, to_index+1):\n",
        "    batch_inputs.append(inputs[index])\n",
        "    batch_targets.append(targets[index])\n",
        "  \n",
        "  return batch_inputs, batch_targets\n",
        "\n",
        "char_epochs = []\n",
        "char_loss_values = []"
      ],
      "execution_count": 0,
      "outputs": []
    },
    {
      "cell_type": "markdown",
      "metadata": {
        "id": "-MOO98RQOhdo",
        "colab_type": "text"
      },
      "source": [
        "The loss graph represents the average loss of each iterator among different epochs. From the following graph, we can see that the loss of the training set decreases sharply at the beginning, then increases from epoch 5 to 10, and then decreases sharply until it hold steady in the end. "
      ]
    },
    {
      "cell_type": "code",
      "metadata": {
        "id": "O9gcFZhCENhm",
        "colab_type": "code",
        "outputId": "b145ef05-f390-4b47-ec00-709ca1a31290",
        "colab": {
          "base_uri": "https://localhost:8080/",
          "height": 1000
        }
      },
      "source": [
        "for epoch in range(total_epoch_of_char): \n",
        "  print('Start Training Epoch: %d' %(epoch))\n",
        "  # i is the iterator number (0, 46), 47 iterators in total\n",
        "  char_epochs.append(epoch)\n",
        " \n",
        "  total_loss_value = 0\n",
        "  for iteration in range(0, int(total_data_num/char_batch)+1):  \n",
        "    input_batch_of_char_model_update, target_batch_of_char_model_update = create_mini_batches(input_batch_of_char_model, target_batch_of_char_model, char_batch, iteration)\n",
        "    input_batch_of_char_torch = torch.from_numpy(np.array(input_batch_of_char_model_update)).float().to(device)\n",
        "    target_batch_of_char_torch = torch.from_numpy(np.array(target_batch_of_char_model_update)).to(device)\n",
        "    target_batch_of_char_torch = target_batch_of_char_torch.type(torch.DoubleTensor)\n",
        "    # Set the flag to training\n",
        "    char_model.train()\n",
        "    # forward + backward + optimize\n",
        "    outputs,_ = char_model(input_batch_of_char_torch)\n",
        "    outputs = outputs.type(torch.DoubleTensor)\n",
        "    loss_of_char_model = criterion_of_char(outputs, target_batch_of_char_torch)\n",
        "    loss_of_char_model.backward()\n",
        "    optimizer_of_char.step()\n",
        "    optimizer_of_char.zero_grad()\n",
        "\n",
        "    # Set the flag to evaluation, which will 'turn off' the dropout\n",
        "    char_model.eval()\n",
        "    outputs,_ = char_model(input_batch_of_char_torch) \n",
        "  \n",
        "    # Evaluation loss and accuracy calculation\n",
        "    loss_of_char_model = criterion_of_char(outputs, target_batch_of_char_torch)\n",
        "    _, predicted = torch.max(outputs, 1)\n",
        "    if iteration == 0:\n",
        "      print('Iteration: %d, loss: %.8f' %(iteration, loss_of_char_model.item()))\n",
        "\n",
        "    total_loss_value += loss_of_char_model.item()\n",
        "    if iteration == int(total_data_num/char_batch):\n",
        "       #total/47\n",
        "      char_loss_values.append(total_loss_value/(int(total_data_num/char_batch)+1))\n",
        "      \n",
        "  print('Finish Training Epoch: %d' %(epoch))\n",
        "  print('=================================================<3')\n",
        "print('Finished Character Embedding Training')\n",
        "\n",
        "plt.plot(char_epochs, char_loss_values, 'r', label = 'Training Loss of Character Embedding Model')\n",
        "plt.legend()\n",
        "plt.show()"
      ],
      "execution_count": 0,
      "outputs": [
        {
          "output_type": "stream",
          "text": [
            "Start Training Epoch: 0\n",
            "Iteration: 0, loss: 0.45988216\n",
            "Finish Training Epoch: 0\n",
            "=================================================<3\n",
            "Start Training Epoch: 1\n",
            "Iteration: 0, loss: 0.01541835\n",
            "Finish Training Epoch: 1\n",
            "=================================================<3\n",
            "Start Training Epoch: 2\n",
            "Iteration: 0, loss: 0.00566944\n",
            "Finish Training Epoch: 2\n",
            "=================================================<3\n",
            "Start Training Epoch: 3\n",
            "Iteration: 0, loss: 0.00459095\n",
            "Finish Training Epoch: 3\n",
            "=================================================<3\n",
            "Start Training Epoch: 4\n",
            "Iteration: 0, loss: 0.00927267\n",
            "Finish Training Epoch: 4\n",
            "=================================================<3\n",
            "Start Training Epoch: 5\n",
            "Iteration: 0, loss: 0.05567989\n",
            "Finish Training Epoch: 5\n",
            "=================================================<3\n",
            "Start Training Epoch: 6\n",
            "Iteration: 0, loss: 0.11461021\n",
            "Finish Training Epoch: 6\n",
            "=================================================<3\n",
            "Start Training Epoch: 7\n",
            "Iteration: 0, loss: 0.32002219\n",
            "Finish Training Epoch: 7\n",
            "=================================================<3\n",
            "Start Training Epoch: 8\n",
            "Iteration: 0, loss: 0.02002943\n",
            "Finish Training Epoch: 8\n",
            "=================================================<3\n",
            "Start Training Epoch: 9\n",
            "Iteration: 0, loss: 0.00455554\n",
            "Finish Training Epoch: 9\n",
            "=================================================<3\n",
            "Start Training Epoch: 10\n",
            "Iteration: 0, loss: 0.00411156\n",
            "Finish Training Epoch: 10\n",
            "=================================================<3\n",
            "Start Training Epoch: 11\n",
            "Iteration: 0, loss: 0.00403439\n",
            "Finish Training Epoch: 11\n",
            "=================================================<3\n",
            "Start Training Epoch: 12\n",
            "Iteration: 0, loss: 0.00398345\n",
            "Finish Training Epoch: 12\n",
            "=================================================<3\n",
            "Start Training Epoch: 13\n",
            "Iteration: 0, loss: 0.00393711\n",
            "Finish Training Epoch: 13\n",
            "=================================================<3\n",
            "Start Training Epoch: 14\n",
            "Iteration: 0, loss: 0.00389823\n",
            "Finish Training Epoch: 14\n",
            "=================================================<3\n",
            "Start Training Epoch: 15\n",
            "Iteration: 0, loss: 0.00387021\n",
            "Finish Training Epoch: 15\n",
            "=================================================<3\n",
            "Start Training Epoch: 16\n",
            "Iteration: 0, loss: 0.00385389\n",
            "Finish Training Epoch: 16\n",
            "=================================================<3\n",
            "Start Training Epoch: 17\n",
            "Iteration: 0, loss: 0.00384653\n",
            "Finish Training Epoch: 17\n",
            "=================================================<3\n",
            "Start Training Epoch: 18\n",
            "Iteration: 0, loss: 0.00384665\n",
            "Finish Training Epoch: 18\n",
            "=================================================<3\n",
            "Start Training Epoch: 19\n",
            "Iteration: 0, loss: 0.00385301\n",
            "Finish Training Epoch: 19\n",
            "=================================================<3\n",
            "Start Training Epoch: 20\n",
            "Iteration: 0, loss: 0.00386304\n",
            "Finish Training Epoch: 20\n",
            "=================================================<3\n",
            "Start Training Epoch: 21\n",
            "Iteration: 0, loss: 0.00387382\n",
            "Finish Training Epoch: 21\n",
            "=================================================<3\n",
            "Start Training Epoch: 22\n",
            "Iteration: 0, loss: 0.00388401\n",
            "Finish Training Epoch: 22\n",
            "=================================================<3\n",
            "Start Training Epoch: 23\n",
            "Iteration: 0, loss: 0.00389264\n",
            "Finish Training Epoch: 23\n",
            "=================================================<3\n",
            "Start Training Epoch: 24\n",
            "Iteration: 0, loss: 0.00389807\n",
            "Finish Training Epoch: 24\n",
            "=================================================<3\n",
            "Start Training Epoch: 25\n",
            "Iteration: 0, loss: 0.00389752\n",
            "Finish Training Epoch: 25\n",
            "=================================================<3\n",
            "Start Training Epoch: 26\n",
            "Iteration: 0, loss: 0.00388783\n",
            "Finish Training Epoch: 26\n",
            "=================================================<3\n",
            "Start Training Epoch: 27\n",
            "Iteration: 0, loss: 0.00386891\n",
            "Finish Training Epoch: 27\n",
            "=================================================<3\n",
            "Start Training Epoch: 28\n",
            "Iteration: 0, loss: 0.00384540\n",
            "Finish Training Epoch: 28\n",
            "=================================================<3\n",
            "Start Training Epoch: 29\n",
            "Iteration: 0, loss: 0.00382238\n",
            "Finish Training Epoch: 29\n",
            "=================================================<3\n",
            "Start Training Epoch: 30\n",
            "Iteration: 0, loss: 0.00380218\n",
            "Finish Training Epoch: 30\n",
            "=================================================<3\n",
            "Start Training Epoch: 31\n",
            "Iteration: 0, loss: 0.00378569\n",
            "Finish Training Epoch: 31\n",
            "=================================================<3\n",
            "Start Training Epoch: 32\n",
            "Iteration: 0, loss: 0.00377307\n",
            "Finish Training Epoch: 32\n",
            "=================================================<3\n",
            "Start Training Epoch: 33\n",
            "Iteration: 0, loss: 0.00376471\n",
            "Finish Training Epoch: 33\n",
            "=================================================<3\n",
            "Start Training Epoch: 34\n",
            "Iteration: 0, loss: 0.00376197\n",
            "Finish Training Epoch: 34\n",
            "=================================================<3\n",
            "Start Training Epoch: 35\n",
            "Iteration: 0, loss: 0.00376432\n",
            "Finish Training Epoch: 35\n",
            "=================================================<3\n",
            "Start Training Epoch: 36\n",
            "Iteration: 0, loss: 0.00376725\n",
            "Finish Training Epoch: 36\n",
            "=================================================<3\n",
            "Start Training Epoch: 37\n",
            "Iteration: 0, loss: 0.00376603\n",
            "Finish Training Epoch: 37\n",
            "=================================================<3\n",
            "Start Training Epoch: 38\n",
            "Iteration: 0, loss: 0.00375957\n",
            "Finish Training Epoch: 38\n",
            "=================================================<3\n",
            "Start Training Epoch: 39\n",
            "Iteration: 0, loss: 0.00374972\n",
            "Finish Training Epoch: 39\n",
            "=================================================<3\n",
            "Start Training Epoch: 40\n",
            "Iteration: 0, loss: 0.00373890\n",
            "Finish Training Epoch: 40\n",
            "=================================================<3\n",
            "Start Training Epoch: 41\n",
            "Iteration: 0, loss: 0.00373055\n",
            "Finish Training Epoch: 41\n",
            "=================================================<3\n",
            "Start Training Epoch: 42\n",
            "Iteration: 0, loss: 0.00372670\n",
            "Finish Training Epoch: 42\n",
            "=================================================<3\n",
            "Start Training Epoch: 43\n",
            "Iteration: 0, loss: 0.00372913\n",
            "Finish Training Epoch: 43\n",
            "=================================================<3\n",
            "Start Training Epoch: 44\n",
            "Iteration: 0, loss: 0.00373972\n",
            "Finish Training Epoch: 44\n",
            "=================================================<3\n",
            "Start Training Epoch: 45\n",
            "Iteration: 0, loss: 0.00375881\n",
            "Finish Training Epoch: 45\n",
            "=================================================<3\n",
            "Start Training Epoch: 46\n",
            "Iteration: 0, loss: 0.00378098\n",
            "Finish Training Epoch: 46\n",
            "=================================================<3\n",
            "Start Training Epoch: 47\n",
            "Iteration: 0, loss: 0.00379929\n",
            "Finish Training Epoch: 47\n",
            "=================================================<3\n",
            "Start Training Epoch: 48\n",
            "Iteration: 0, loss: 0.00381075\n",
            "Finish Training Epoch: 48\n",
            "=================================================<3\n",
            "Start Training Epoch: 49\n",
            "Iteration: 0, loss: 0.00381535\n",
            "Finish Training Epoch: 49\n",
            "=================================================<3\n",
            "Finished Character Embedding Training\n"
          ],
          "name": "stdout"
        },
        {
          "output_type": "display_data",
          "data": {
            "image/png": "[encoded data removed]",
            "text/plain": [
              "<Figure size 432x288 with 1 Axes>"
            ]
          },
          "metadata": {
            "tags": [],
            "needs_background": "light"
          }
        }
      ]
    },
    {
      "cell_type": "markdown",
      "metadata": {
        "colab_type": "text",
        "id": "46W0zFfWGlI_"
      },
      "source": [
        "### 2.1.4. Train Character Embeddings Model"
      ]
    },
    {
      "cell_type": "markdown",
      "metadata": {
        "colab_type": "text",
        "id": "R5Bym9bBGlJE"
      },
      "source": [
        "### 2.1.5. Save Character Embeddings Model"
      ]
    },
    {
      "cell_type": "code",
      "metadata": {
        "colab_type": "code",
        "id": "ggTsYIm7GlJF",
        "outputId": "2fbf6297-4535-4ee6-d1e7-0afd8170737d",
        "colab": {
          "base_uri": "https://localhost:8080/",
          "height": 71
        }
      },
      "source": [
        "# Save the Character embedding model\n",
        "torch.save(char_model, 'Character_embedding_model.pt')\n"
      ],
      "execution_count": 0,
      "outputs": [
        {
          "output_type": "stream",
          "text": [
            "/usr/local/lib/python3.6/dist-packages/torch/serialization.py:360: UserWarning: Couldn't retrieve source code for container of type Net. It won't be checked for correctness upon loading.\n",
            "  \"type \" + obj.__name__ + \". It won't be checked \"\n"
          ],
          "name": "stderr"
        }
      ]
    },
    {
      "cell_type": "markdown",
      "metadata": {
        "colab_type": "text",
        "id": "JwOI-wIKGlJI"
      },
      "source": [
        "### 2.1.6. Load Character Embeddings Model"
      ]
    },
    {
      "cell_type": "code",
      "metadata": {
        "id": "4-jyj-lOHWWj",
        "colab_type": "code",
        "outputId": "5cb958ed-08dc-4104-870e-429f791575c1",
        "colab": {
          "base_uri": "https://localhost:8080/",
          "height": 87
        }
      },
      "source": [
        "# Please run this code to download the character embedding model\n",
        "character_embedding_model = torch.load('Character_embedding_model.pt').to(device)\n",
        "character_embedding_model.eval()"
      ],
      "execution_count": 18,
      "outputs": [
        {
          "output_type": "execute_result",
          "data": {
            "text/plain": [
              "Net(\n",
              "  (lstm): LSTM(77, 50, batch_first=True, dropout=0.2, bidirectional=True)\n",
              "  (linear): Linear(in_features=100, out_features=100, bias=True)\n",
              ")"
            ]
          },
          "metadata": {
            "tags": []
          },
          "execution_count": 18
        }
      ]
    },
    {
      "cell_type": "markdown",
      "metadata": {
        "id": "z6ALVCXGPN5R",
        "colab_type": "text"
      },
      "source": [
        "The hidden layer of the character embedding model is used to compute the character embeddings.\n",
        "Then I create a dictionary to store the embeddings. The key is the word, the value of each key is the character embedding vectors.\n",
        "\n"
      ]
    },
    {
      "cell_type": "code",
      "metadata": {
        "id": "ts4Qh13bWTFm",
        "colab_type": "code",
        "outputId": "12208b1d-f064-4465-abc4-15929fa5d147",
        "colab": {
          "base_uri": "https://localhost:8080/",
          "height": 35
        }
      },
      "source": [
        "trained_char_embeddings = []\n",
        "for each_word in input_batch_of_char_model:\n",
        "  _, hidden_state = character_embedding_model(torch.from_numpy(np.array([each_word])).float().to(device))\n",
        "  trained_char_embeddings.append(hidden_state.detach().numpy())\n",
        "\n",
        "print(len(trained_char_embeddings))"
      ],
      "execution_count": 20,
      "outputs": [
        {
          "output_type": "stream",
          "text": [
            "48012\n"
          ],
          "name": "stdout"
        }
      ]
    },
    {
      "cell_type": "code",
      "metadata": {
        "id": "elnE9zQCbadI",
        "colab_type": "code",
        "outputId": "fc071744-f499-4698-ecdf-5b2b771d192f",
        "colab": {
          "base_uri": "https://localhost:8080/",
          "height": 35
        }
      },
      "source": [
        "# The key is the word, the value is the character embedding\n",
        "char_embeddings_dic = {}\n",
        "\n",
        "for i in range(len(word_list)):\n",
        "  char_embeddings_dic[word_list[i]] = trained_char_embeddings[i][0].tolist()\n",
        "\n",
        "print(len(char_embeddings_dic))"
      ],
      "execution_count": 21,
      "outputs": [
        {
          "output_type": "stream",
          "text": [
            "48012\n"
          ],
          "name": "stdout"
        }
      ]
    },
    {
      "cell_type": "code",
      "metadata": {
        "id": "7L_C4hPXroaN",
        "colab_type": "code",
        "colab": {}
      },
      "source": [
        "import json\n",
        "json.dump(char_embeddings_dic, open('char_embeddings_dic.json', 'w'))"
      ],
      "execution_count": 0,
      "outputs": []
    },
    {
      "cell_type": "code",
      "metadata": {
        "id": "_DEJoZTZr-oP",
        "colab_type": "code",
        "colab": {}
      },
      "source": [
        "char_embeddings_dic = json.load(open('char_embeddings_dic.json'))"
      ],
      "execution_count": 0,
      "outputs": []
    },
    {
      "cell_type": "markdown",
      "metadata": {
        "id": "tlCeWT8eeLnd",
        "colab_type": "text"
      },
      "source": [
        "## 2.3. Sequence model"
      ]
    },
    {
      "cell_type": "markdown",
      "metadata": {
        "id": "fwA-NN3EJ4Ig",
        "colab_type": "text"
      },
      "source": [
        "### 2.3.1. Apply/Import Word Embedding and Character Embedding Model"
      ]
    },
    {
      "cell_type": "markdown",
      "metadata": {
        "id": "pDJ_M05U0a6J",
        "colab_type": "text"
      },
      "source": [
        "To build a sequence model, I will preprocess the data first. Just as I mentioned in the character embedding, here for the sequence model, it is also useful to add the padding to each sequence for learning and training better and faster. The following graph shows the rate of sequence numbers which are shorter than the limit values such as mean, counts, 100, 130, 160, 200, and 220. For gaining faster training, I decide to use 160 as the sequence length that more than 80% of the data reviews are shorter than 160. It is also larger than the average and counts length.\n"
      ]
    },
    {
      "cell_type": "code",
      "metadata": {
        "id": "pewHhJWCWyyo",
        "colab_type": "code",
        "outputId": "120f8320-3c62-4b1c-b796-a0bb91ac9108",
        "colab": {
          "base_uri": "https://localhost:8080/",
          "height": 352
        }
      },
      "source": [
        "import matplotlib\n",
        "import matplotlib.pyplot as plt\n",
        "\n",
        "# Build a list to store the sequence length\n",
        "sequences_lengths = []\n",
        "total_reviews_num = 0\n",
        "for each_review in review_train_word_preprocess:\n",
        "  sequences_lengths.append(len(each_review))\n",
        "for each_review in review_test_word_preprocess:\n",
        "  sequences_lengths.append(len(each_review))\n",
        "\n",
        "total_num_of_reviews = len(sequences_lengths)\n",
        "length_of_longest_review = max(sequences_lengths)\n",
        "average_review_length = np.mean(sequences_lengths)\n",
        "counts_review = np.bincount(sequences_lengths)\n",
        "counts_review = np.argmax(counts_review)\n",
        "double_mean_review = 2 * average_review_length\n",
        "print(length_of_longest_review)\n",
        "print(average_review_length)\n",
        "print(counts_review)\n",
        "print(double_mean_review)\n",
        "\n",
        "reviews_shorter_than_mean = 0\n",
        "reviews_shorter_than_counts = 0\n",
        "reviews_shorter_than_100 = 0\n",
        "reviews_shorter_than_130 = 0\n",
        "reviews_shorter_than_160 = 0\n",
        "reviews_shorter_than_190 = 0\n",
        "reviews_shorter_than_200 = 0\n",
        "reviews_shorter_than_double_mean = 0\n",
        "\n",
        "for each_length in sequences_lengths:\n",
        "  if each_length < average_review_length:\n",
        "    reviews_shorter_than_mean += 1\n",
        "  if each_length < counts_review:\n",
        "    reviews_shorter_than_counts += 1\n",
        "  if each_length < 100:\n",
        "    reviews_shorter_than_100 += 1\n",
        "  if each_length < 130:\n",
        "    reviews_shorter_than_130 += 1\n",
        "  if each_length < 160:\n",
        "    reviews_shorter_than_160 += 1\n",
        "  if each_length < 190:\n",
        "    reviews_shorter_than_190 += 1\n",
        "  if each_length < 200:\n",
        "    reviews_shorter_than_200 += 1\n",
        "  if each_length < double_mean_review:\n",
        "    reviews_shorter_than_double_mean += 1\n",
        " \n",
        "limitsnum = [counts_review, 100, average_review_length, 130, 160, 190, 200, double_mean_review]\n",
        "rate_of_review_shorter_than_limit = [reviews_shorter_than_counts/total_num_of_reviews, reviews_shorter_than_100/total_num_of_reviews, reviews_shorter_than_mean/total_num_of_reviews, reviews_shorter_than_130/total_num_of_reviews, reviews_shorter_than_160/total_num_of_reviews, reviews_shorter_than_190/total_num_of_reviews, reviews_shorter_than_200/total_num_of_reviews, reviews_shorter_than_double_mean/total_num_of_reviews]\n",
        "print(rate_of_review_shorter_than_limit)\n",
        "plt.plot(limitsnum, rate_of_review_shorter_than_limit, 'g', label = 'Rate of words that are shorter than limit')\n",
        "plt.legend()\n",
        "plt.show()"
      ],
      "execution_count": 0,
      "outputs": [
        {
          "output_type": "stream",
          "text": [
            "1286\n",
            "110.3995\n",
            "59\n",
            "220.799\n",
            "[0.23376, 0.61374, 0.66626, 0.73558, 0.81438, 0.86654, 0.87948, 0.90362]\n"
          ],
          "name": "stdout"
        },
        {
          "output_type": "display_data",
          "data": {
            "image/png": "[encoded data removed]",
            "text/plain": [
              "<Figure size 432x288 with 1 Axes>"
            ]
          },
          "metadata": {
            "tags": [],
            "needs_background": "light"
          }
        }
      ]
    },
    {
      "cell_type": "markdown",
      "metadata": {
        "id": "u74I4QzaPyHn",
        "colab_type": "text"
      },
      "source": [
        "Then add padding **“<PADDING>”** to each word in the sequence (sentence) if their lengths are less than 160, and keep only 160 words in each review, delete the additional words that extend the limit.\n",
        "Both reviews in the training and testing dataset will be padded. \n"
      ]
    },
    {
      "cell_type": "code",
      "metadata": {
        "id": "hoB2xia80cZ6",
        "colab_type": "code",
        "outputId": "578dffd9-df82-4ed0-8622-c46a372d72d6",
        "colab": {
          "base_uri": "https://localhost:8080/",
          "height": 72
        }
      },
      "source": [
        "sequence_length = 160\n",
        "\n",
        "def add_seq_padding(corpus, sequence_length):\n",
        "  output = []\n",
        "  for sentence in corpus:\n",
        "      if len(sentence) > sequence_length:\n",
        "          output.append(sentence[:sequence_length])\n",
        "      else:\n",
        "          for index_of_word in range(sequence_length - len(sentence)):\n",
        "              sentence.append(\"<PADDING>\")\n",
        "          output.append(sentence)\n",
        "  return output\n",
        "\n",
        "review_train_pad = add_seq_padding(review_train_word_preprocess, sequence_length)\n",
        "review_test_pad = add_seq_padding(review_test_word_preprocess, sequence_length)\n",
        "print(len(review_train_pad))\n",
        "print(review_train_pad[0])"
      ],
      "execution_count": 20,
      "outputs": [
        {
          "output_type": "stream",
          "text": [
            "25000\n",
            "['enjoyed', 'movie', 'havent', 'seen', 'andy', 'griffith', 'age', 'felt', 'fit', 'role', 'perfectly', 'ive', 'associated', 'comedy', 'pleased', 'see', 'he', 'wasnt', 'troubled', 'anxiety', 'disorder', 'may', 'verbatim', 'psychiatric', 'textbook', 'zillion', 'neurosis', 'broad', 'variety', 'qualitative', 'form', 'clearly', 'sensitive', 'power', 'understood', 'local', 'indian', 'surprising', 'character', 'vulnerable', 'nominally', 'taken', 'light', 'family', 'movie', 'actually', 'sophisticated', 'seems', 'twist', 'came', 'pleasant', 'surprise', 'tied', 'preceding', 'action', 'together', 'bundle', 'fun', 'contemplate', 'possibility', 'spiritual', 'guidance', '<PADDING>', '<PADDING>', '<PADDING>', '<PADDING>', '<PADDING>', '<PADDING>', '<PADDING>', '<PADDING>', '<PADDING>', '<PADDING>', '<PADDING>', '<PADDING>', '<PADDING>', '<PADDING>', '<PADDING>', '<PADDING>', '<PADDING>', '<PADDING>', '<PADDING>', '<PADDING>', '<PADDING>', '<PADDING>', '<PADDING>', '<PADDING>', '<PADDING>', '<PADDING>', '<PADDING>', '<PADDING>', '<PADDING>', '<PADDING>', '<PADDING>', '<PADDING>', '<PADDING>', '<PADDING>', '<PADDING>', '<PADDING>', '<PADDING>', '<PADDING>', '<PADDING>', '<PADDING>', '<PADDING>', '<PADDING>', '<PADDING>', '<PADDING>', '<PADDING>', '<PADDING>', '<PADDING>', '<PADDING>', '<PADDING>', '<PADDING>', '<PADDING>', '<PADDING>', '<PADDING>', '<PADDING>', '<PADDING>', '<PADDING>', '<PADDING>', '<PADDING>', '<PADDING>', '<PADDING>', '<PADDING>', '<PADDING>', '<PADDING>', '<PADDING>', '<PADDING>', '<PADDING>', '<PADDING>', '<PADDING>', '<PADDING>', '<PADDING>', '<PADDING>', '<PADDING>', '<PADDING>', '<PADDING>', '<PADDING>', '<PADDING>', '<PADDING>', '<PADDING>', '<PADDING>', '<PADDING>', '<PADDING>', '<PADDING>', '<PADDING>', '<PADDING>', '<PADDING>', '<PADDING>', '<PADDING>', '<PADDING>', '<PADDING>', '<PADDING>', '<PADDING>', '<PADDING>', '<PADDING>', '<PADDING>', '<PADDING>', '<PADDING>', '<PADDING>', '<PADDING>']\n"
          ],
          "name": "stdout"
        }
      ]
    },
    {
      "cell_type": "markdown",
      "metadata": {
        "id": "qC9A1ZIjP_aP",
        "colab_type": "text"
      },
      "source": [
        "Next is the most significant step of this task, to apply and import word and character models together. I apply the concatenation function, which combines the word embeddings with the character embeddings to get our final sequence embeddings. I apply this function on both the training sets and the testing sets. The shape of the sequence embeddings should be 3 dimensions.\n"
      ]
    },
    {
      "cell_type": "code",
      "metadata": {
        "id": "mFjFNYRT0eF6",
        "colab_type": "code",
        "outputId": "4577a039-0a35-4886-ef0f-dfe817a18ad4",
        "colab": {
          "base_uri": "https://localhost:8080/",
          "height": 35
        }
      },
      "source": [
        "print(n_hidden_of_char)\n",
        "word_embeddings_dic['<PADDING>'] = [0]*100\n",
        "char_embeddings_dic['<PADDING>'] = [0]*100\n",
        "\n",
        "\n",
        "def get_sequence_emb(corpus, word_embedding_dic, char_embedding_dic):\n",
        "  seq_emb_list = []\n",
        "  for each_review in corpus:\n",
        "    concat_of_word_char = []\n",
        "    for each_word in each_review:\n",
        "      #concatation is equal to the sum of word embedding and the character embedding  \n",
        "      concat_of_word_char.append(word_embedding_dic[each_word] + char_embedding_dic[each_word])\n",
        "    seq_emb_list.append(concat_of_word_char)  \n",
        "  return np.array(seq_emb_list)\n"
      ],
      "execution_count": 21,
      "outputs": [
        {
          "output_type": "stream",
          "text": [
            "50\n"
          ],
          "name": "stdout"
        }
      ]
    },
    {
      "cell_type": "code",
      "metadata": {
        "id": "my7_el2O3qfW",
        "colab_type": "code",
        "colab": {}
      },
      "source": [
        "train_seq_embeddings = get_sequence_emb(review_train_pad, word_embeddings_dic, char_embeddings_dic)"
      ],
      "execution_count": 0,
      "outputs": []
    },
    {
      "cell_type": "code",
      "metadata": {
        "id": "NIUjWyrnpf6L",
        "colab_type": "code",
        "colab": {}
      },
      "source": [
        "test_seq_embeddings = get_sequence_emb(review_test_pad, word_embeddings_dic, char_embeddings_dic)"
      ],
      "execution_count": 0,
      "outputs": []
    },
    {
      "cell_type": "code",
      "metadata": {
        "id": "pIyOYJJO_G3K",
        "colab_type": "code",
        "outputId": "75cd5138-ad9b-4c9c-eb68-305207342ef0",
        "colab": {
          "base_uri": "https://localhost:8080/",
          "height": 52
        }
      },
      "source": [
        "print(train_seq_embeddings.shape)\n",
        "print(test_seq_embeddings.shape)"
      ],
      "execution_count": 25,
      "outputs": [
        {
          "output_type": "stream",
          "text": [
            "(25000, 160, 200)\n",
            "(25000, 160, 200)\n"
          ],
          "name": "stdout"
        }
      ]
    },
    {
      "cell_type": "markdown",
      "metadata": {
        "id": "DpYCL17JKZxl",
        "colab_type": "text"
      },
      "source": [
        "### 2.3.2. Build Sequence Model"
      ]
    },
    {
      "cell_type": "markdown",
      "metadata": {
        "id": "R204UIyDKhZ4",
        "colab_type": "text"
      },
      "source": [
        "The selected hyperparameters and the explanations are listed as follows.\n",
        "\n",
        "#### Sequence input number: 200\n",
        "The input number of the sequence has to be the same shape with the sequence embedding inputs. Therefore the value is 200.\n",
        "</br>\n",
        "</br>\n",
        "#### Sequence class number: 2\n",
        "Since the sequence model is “Many to 1”, the output should be the prediction result, therefore it is equal to the number of classes. Since there are only two types of labels, one is negative, the other is positive, the number of sequence class should be 2.\n",
        "</br>\n",
        "</br>\n",
        "#### Sequence hidden number:\n",
        "I tried 516 for the first time, but the RAM crashes. Then I tried 128 and gain good performance.\n",
        "</br>\n",
        "</br>\n",
        "#### Sequence batch size:\n",
        "Since both the CPU and GPU memory are stored in binary, it makes sense to set the batch size to a power of 2. For the reason that our task aims to predict the sentiment to be negative or positive, I prefer to select a batch size that is not small for gaining a better representation of the training samples. Moreover, within a reasonable range, the memory utilization can be increased, the parallelization efficiency can be improved. Additionally, the number of iterations that need to complete an epoch can be reduced. I have tried 51, 1024, and 2048, when batch size is 1,024, the loss improves (decreases) the best. Hence, I select 1024 to be the batch size.\n",
        "</br>\n",
        "</br>\n",
        "#### seq_batch_size = 64\n",
        "First, I set the batch size to be 1024, 512, but the RAM crashed. 64 performs well.\n",
        "</br>\n",
        "</br>\n",
        "#### total_epoch_of_seq = 1000\n",
        "The epoch is 1000 in total. This epoch can train more data.\n",
        "</br>\n",
        "</br>\n",
        "#### seq_learning_rate = 0.01\n",
        "After trying 0.001, 0.01, 0.1, 0.5 and 1, 0.01 performs best.\n",
        "</br>\n",
        "</br>\n",
        "#### Shown interval = 20\n",
        "print the loss and accuracy value each 20 epochs\n",
        "</br>\n",
        "</br>\n",
        "#### validation_epoch_interval_1 = 50\n",
        "print the loss and accuracy value each 20 epochs\n",
        "</br>\n",
        "</br>\n",
        "#### total_validation = 25000\n",
        "I use the test set data to do the validation. So the total data is 25000\n",
        "</br>\n",
        "</br>\n",
        "#### validation_batchs = 500\n",
        "There are 500 iterations. The batch size should be total_validation/validation_batchs\n",
        "</br>\n",
        "</br>\n",
        "To build the sequence model, I first use LSTM. However, the loss of the training set and validation set both not converge. I really spent lots of time on it. Then I changed the model to **Bi-LSTM**, which performs much better. It contains bi-directions long short term memory. It can be seen as putting two RNN together in one model. Since the bi-directional structure, enables us to gain the forward and backward at each update. Therefore Bi-LSTM can get use of the context words better than other RNNs since it can get information from two directions and analyze the meaning and information of the context better.\n",
        "\n"
      ]
    },
    {
      "cell_type": "code",
      "metadata": {
        "id": "_XWdDC5R_Ka_",
        "colab_type": "code",
        "colab": {}
      },
      "source": [
        "# model 1\n",
        "\n",
        "import matplotlib\n",
        "import matplotlib.pyplot as plt\n",
        "\n",
        "seq_n_input = train_seq_embeddings.shape[2] #200\n",
        "\n",
        "seq_n_class = len(set(labels))  #2\n",
        "seq_n_hidden = 128\n",
        "seq_batch_size = 64\n",
        "total_epoch_of_seq = 1000\n",
        "seq_learning_rate = 0.01\n",
        "seq_shown_interval = 20\n",
        "\n",
        "\n",
        "validation_epoch_interval_1 = 50\n",
        "total_validation = 25000\n",
        "validation_batchs = 500\n",
        "seq_epochs = []\n",
        "seq_loss_list = []\n",
        "seq_acc_list = []\n",
        "\n",
        "validation_loss_list = []\n",
        "validation_accuracy_list = []\n",
        "\n"
      ],
      "execution_count": 0,
      "outputs": []
    },
    {
      "cell_type": "code",
      "metadata": {
        "id": "nqr2R32VOzJG",
        "colab_type": "code",
        "colab": {}
      },
      "source": [
        "def generate_seq_batch(data, category, size):\n",
        "  random_inputs = []\n",
        "  random_labels = []\n",
        "  random_index = np.random.choice(range(len(data)), size, replace=False)\n",
        "  \n",
        "  for index in random_index:\n",
        "      random_inputs.append(data[index])  # target\n",
        "      random_labels.append(category[index])  # context word\n",
        "\n",
        "  return random_inputs, random_labels"
      ],
      "execution_count": 0,
      "outputs": []
    },
    {
      "cell_type": "code",
      "metadata": {
        "id": "0KTqapvL7x-N",
        "colab_type": "code",
        "colab": {}
      },
      "source": [
        "import torch.nn as nn\n",
        "import torch.nn.functional as F\n",
        "\n",
        "class SequenceModel(nn.Module):\n",
        "  def __init__(self):\n",
        "    super(SequenceModel, self).__init__()\n",
        "    self.lstm = nn.LSTM(seq_n_input, seq_n_hidden, num_layers=2, batch_first =True, bidirectional=True, dropout=0.2)\n",
        "    self.linear = nn.Linear(seq_n_hidden*2, seq_n_class)\n",
        "\n",
        "  def forward(self, sentence):\n",
        "    \n",
        "    #h_n of shape (num_layers * num_directions, batch, hidden_size): tensor containing the hidden state for t = seq_len.\n",
        "    lstm_out, (h_n,c_n) = self.lstm(sentence)\n",
        "    #concat the last hidden state from two direction\n",
        "    hidden_out =torch.cat((h_n[0,:,:],h_n[1,:,:]),1)\n",
        "    z = self.linear(hidden_out)\n",
        "    log_output = F.log_softmax(z, dim=1)\n",
        "    return log_output, hidden_out\n",
        "\n",
        "sequenceModel = SequenceModel().to(device)\n",
        "criterion_of_seq_model = nn.NLLLoss()\n",
        "optimizer_of_seq = optim.Adam(sequenceModel.parameters(), lr = seq_learning_rate)\n"
      ],
      "execution_count": 0,
      "outputs": []
    },
    {
      "cell_type": "markdown",
      "metadata": {
        "id": "6BaOiaGRLW7R",
        "colab_type": "text"
      },
      "source": [
        "### 2.3.3. Train Sequence Model"
      ]
    },
    {
      "cell_type": "markdown",
      "metadata": {
        "id": "RnVIj6Yqc3uD",
        "colab_type": "text"
      },
      "source": [
        "Best model\n",
        "\n",
        "loss and accuracy of training and validation set both improved"
      ]
    },
    {
      "cell_type": "code",
      "metadata": {
        "id": "bV0Wy8evIvQp",
        "colab_type": "code",
        "colab": {
          "base_uri": "https://localhost:8080/",
          "height": 1000
        },
        "outputId": "740c6049-6dc2-48c8-8565-ac5386d81641"
      },
      "source": [
        "from sklearn.metrics import accuracy_score\n",
        "from sklearn.metrics import f1_score\n",
        "validation_epochs = []\n",
        "f1_validation_list = []\n",
        "for epoch in range(total_epoch_of_seq):\n",
        "  #prepare input\n",
        "  input_batch_of_seq, target_batch_of_seq = generate_seq_batch(train_seq_embeddings, sentiments_train_n, seq_batch_size)\n",
        "  input_batch_torch_of_seq = torch.from_numpy(np.array(input_batch_of_seq)).float().to(device)\n",
        "  target_batch_torch_of_seq = torch.from_numpy(np.array(target_batch_of_seq)).view(-1).to(device)\n",
        " \n",
        "  #train the sequence model\n",
        "  sequenceModel.train()\n",
        "  outputs_of_seq,_ = sequenceModel(input_batch_torch_of_seq) \n",
        "  loss_of_seq = criterion_of_seq_model(outputs_of_seq, target_batch_torch_of_seq)\n",
        "  loss_of_seq.backward()\n",
        "  optimizer_of_seq.step()\n",
        "  optimizer_of_seq.zero_grad()\n",
        "  \n",
        "  sequenceModel.eval()\n",
        "  outputs_of_seq,_ = sequenceModel(input_batch_torch_of_seq) \n",
        "\n",
        "  if epoch % seq_shown_interval == seq_shown_interval - 1:\n",
        "    loss_of_seq = criterion_of_seq_model(outputs_of_seq, target_batch_torch_of_seq)\n",
        "    _, predicted_of_seq = torch.max(outputs_of_seq, 1) \n",
        "    train_acc= accuracy_score(predicted_of_seq.cpu().numpy(),target_batch_torch_of_seq.cpu().numpy())\n",
        "    seq_epochs.append(epoch)\n",
        "    seq_loss_list.append(loss_of_seq.item())\n",
        "    seq_acc_list.append(train_acc)\n",
        "    print('Epoch: %d, train loss: %.6f, train_acc: %.4f'%(epoch + 1, loss_of_seq.item(), train_acc))\n",
        "\n",
        "  if epoch % validation_epoch_interval_1 == validation_epoch_interval_1 - 1:\n",
        "    \n",
        "    sum_validation_loss = 0\n",
        "    sum_validation_accuracy = 0\n",
        "    validation_predicted = torch.empty(total_validation)\n",
        "    for each_batch in range(0, validation_batchs):\n",
        "      input_batch_torch_of_validation = torch.from_numpy(np.array(test_seq_embeddings[int((total_validation/validation_batchs) * each_batch) : int((total_validation/validation_batchs) * (each_batch + 1))])).float().to(device)\n",
        "      target_batch_torch_of_validation = torch.from_numpy(sentiments_test_n[int((total_validation/validation_batchs) * each_batch) : int((total_validation/validation_batchs) * (each_batch + 1))]).to(device)\n",
        "      \n",
        "      # from_batch_index = (total_validation/validation_batchs) * each_batch\n",
        "      # to_batch_index = (total_validation/validation_batchs) * (each_batch + 1)\n",
        "\n",
        "      validation_outputs,_  = sequenceModel(input_batch_torch_of_validation)     \n",
        "      validation_loss = criterion_of_seq_model(validation_outputs, target_batch_torch_of_validation)   \n",
        "      _, predicted_validation = torch.max(validation_outputs, 1)    \n",
        "      validation_accuracy = accuracy_score(predicted_validation.cpu().numpy(), target_batch_torch_of_validation.cpu().numpy())\n",
        "      validation_predicted[int((total_validation/validation_batchs) * each_batch) : int((total_validation/validation_batchs) * (each_batch + 1))] = predicted_validation\n",
        "     \n",
        "      sum_validation_loss += validation_loss.item()\n",
        "      sum_validation_accuracy += validation_accuracy\n",
        "      \n",
        "    validation_loss_list.append(sum_validation_loss/validation_batchs)\n",
        "    validation_accuracy_list.append(sum_validation_accuracy/validation_batchs)\n",
        "      \n",
        "    f1_validation_score = f1_score(np.array(sentiments_test_n), validation_predicted.cpu().numpy(), average='weighted') \n",
        "    validation_epochs.append(epoch)\n",
        "    f1_validation_list.append(f1_validation_score)\n",
        "   \n",
        "\n",
        "print('Finished Sequence Model Training')\n",
        "import matplotlib\n",
        "import matplotlib.pyplot as plt\n",
        "plt.plot(seq_epochs, seq_loss_list, 'g', label = 'loss')\n",
        "plt.title('Training Loss of Sequence Model')\n",
        "plt.legend()\n",
        "plt.figure()\n",
        "\n",
        "plt.plot(seq_epochs, seq_acc_list, 'b', label = 'accuracy')\n",
        "plt.title('Training Accuracy of Sequence Model')\n",
        "plt.legend()\n",
        "plt.show()\n",
        "\n",
        "plt.plot(validation_epochs, validation_loss_list, 'g', label = 'loss')\n",
        "plt.title('Validation Loss of Sequence Model')\n",
        "plt.legend()\n",
        "plt.figure()\n",
        "\n",
        "plt.plot(validation_epochs, validation_accuracy_list, 'b', label = 'accuracy')\n",
        "plt.title('Validation Accuracy of Sequence Model')\n",
        "plt.legend()\n",
        "plt.show()\n",
        "\n",
        "# Sequence Model 2\n",
        "plt.plot(validation_epochs, f1_validation_list, 'g', label = 'Hyperparameter 1')\n",
        "plt.title('Hyperparameter Comparison')\n",
        "plt.show()"
      ],
      "execution_count": 29,
      "outputs": [
        {
          "output_type": "stream",
          "text": [
            "Epoch: 20, train loss: 0.701473, train_acc: 0.4844\n",
            "Epoch: 40, train loss: 0.690734, train_acc: 0.4844\n",
            "Epoch: 60, train loss: 0.686369, train_acc: 0.5625\n",
            "Epoch: 80, train loss: 0.717124, train_acc: 0.5156\n",
            "Epoch: 100, train loss: 0.688867, train_acc: 0.4844\n",
            "Epoch: 120, train loss: 0.712851, train_acc: 0.3594\n",
            "Epoch: 140, train loss: 0.698941, train_acc: 0.4531\n",
            "Epoch: 160, train loss: 0.680528, train_acc: 0.6406\n",
            "Epoch: 180, train loss: 0.709395, train_acc: 0.5156\n",
            "Epoch: 200, train loss: 0.701064, train_acc: 0.5000\n",
            "Epoch: 220, train loss: 0.690021, train_acc: 0.5000\n",
            "Epoch: 240, train loss: 0.692473, train_acc: 0.5000\n",
            "Epoch: 260, train loss: 0.693223, train_acc: 0.5312\n",
            "Epoch: 280, train loss: 0.667875, train_acc: 0.6094\n",
            "Epoch: 300, train loss: 0.683873, train_acc: 0.5156\n",
            "Epoch: 320, train loss: 0.710632, train_acc: 0.4844\n",
            "Epoch: 340, train loss: 0.694631, train_acc: 0.4062\n",
            "Epoch: 360, train loss: 0.701015, train_acc: 0.4688\n",
            "Epoch: 380, train loss: 0.701308, train_acc: 0.5312\n",
            "Epoch: 400, train loss: 0.700899, train_acc: 0.5469\n",
            "Epoch: 420, train loss: 0.696881, train_acc: 0.4844\n",
            "Epoch: 440, train loss: 0.708093, train_acc: 0.4062\n",
            "Epoch: 460, train loss: 0.694072, train_acc: 0.5000\n",
            "Epoch: 480, train loss: 0.699732, train_acc: 0.4688\n",
            "Epoch: 500, train loss: 0.695419, train_acc: 0.4688\n",
            "Epoch: 520, train loss: 0.690350, train_acc: 0.4531\n",
            "Epoch: 540, train loss: 0.680214, train_acc: 0.6406\n",
            "Epoch: 560, train loss: 0.667751, train_acc: 0.5938\n",
            "Epoch: 580, train loss: 0.698886, train_acc: 0.5625\n",
            "Epoch: 600, train loss: 0.593121, train_acc: 0.7031\n",
            "Epoch: 620, train loss: 0.596336, train_acc: 0.6875\n",
            "Epoch: 640, train loss: 0.605882, train_acc: 0.6562\n",
            "Epoch: 660, train loss: 0.524512, train_acc: 0.6875\n",
            "Epoch: 680, train loss: 0.557866, train_acc: 0.7188\n",
            "Epoch: 700, train loss: 0.603659, train_acc: 0.6250\n",
            "Epoch: 720, train loss: 0.633048, train_acc: 0.6562\n",
            "Epoch: 740, train loss: 0.615649, train_acc: 0.5938\n",
            "Epoch: 760, train loss: 0.525040, train_acc: 0.7812\n",
            "Epoch: 780, train loss: 0.505534, train_acc: 0.7344\n",
            "Epoch: 800, train loss: 0.642656, train_acc: 0.6250\n",
            "Epoch: 820, train loss: 0.506120, train_acc: 0.7812\n",
            "Epoch: 840, train loss: 0.650464, train_acc: 0.6250\n",
            "Epoch: 860, train loss: 0.558843, train_acc: 0.7188\n",
            "Epoch: 880, train loss: 0.573302, train_acc: 0.6562\n",
            "Epoch: 900, train loss: 0.607157, train_acc: 0.6562\n",
            "Epoch: 920, train loss: 0.551834, train_acc: 0.6562\n",
            "Epoch: 940, train loss: 0.447108, train_acc: 0.7656\n",
            "Epoch: 960, train loss: 0.577278, train_acc: 0.6562\n",
            "Epoch: 980, train loss: 0.579993, train_acc: 0.7656\n",
            "Epoch: 1000, train loss: 0.609684, train_acc: 0.5938\n",
            "Finished Sequence Model Training\n"
          ],
          "name": "stdout"
        },
        {
          "output_type": "display_data",
          "data": {
            "image/png": "[encoded data removed]",
            "text/plain": [
              "<Figure size 432x288 with 1 Axes>"
            ]
          },
          "metadata": {
            "tags": [],
            "needs_background": "light"
          }
        },
        {
          "output_type": "display_data",
          "data": {
            "image/png": "[encoded data removed]",
            "text/plain": [
              "<Figure size 432x288 with 1 Axes>"
            ]
          },
          "metadata": {
            "tags": [],
            "needs_background": "light"
          }
        },
        {
          "output_type": "display_data",
          "data": {
            "image/png": "[encoded data removed]",
            "text/plain": [
              "<Figure size 432x288 with 1 Axes>"
            ]
          },
          "metadata": {
            "tags": [],
            "needs_background": "light"
          }
        },
        {
          "output_type": "display_data",
          "data": {
            "image/png": "[encoded data removed]",
            "text/plain": [
              "<Figure size 432x288 with 1 Axes>"
            ]
          },
          "metadata": {
            "tags": [],
            "needs_background": "light"
          }
        },
        {
          "output_type": "display_data",
          "data": {
            "image/png": "[encoded data removed]",
            "text/plain": [
              "<Figure size 432x288 with 1 Axes>"
            ]
          },
          "metadata": {
            "tags": [],
            "needs_background": "light"
          }
        }
      ]
    },
    {
      "cell_type": "markdown",
      "metadata": {
        "id": "JWfBRaANwdxY",
        "colab_type": "text"
      },
      "source": [
        "**Sequence Model 1**  </br>\n",
        "File name: Sequence_model_1.pt</br>\n",
        "Model used: LSTM </br>\n",
        "Hyperparameters selection:  </br>\n",
        "\n",
        "```\n",
        "seq_n_input = 200\n",
        "seq_n_class = 2\n",
        "seq_n_hidden = 128\n",
        "seq_batch_size = 32\n",
        "total_epoch_of_seq = 2000\n",
        "seq_learning_rate = 0.01\n",
        "seq_shown_interval = 20\n",
        "\n",
        "validation_epoch_interval_1 = 50\n",
        "total_validation = 25000\n",
        "validation_batchs = 500\n",
        "```\n",
        "Performance: Not good, Loss does not converge\n",
        "\n"
      ]
    },
    {
      "cell_type": "code",
      "metadata": {
        "id": "lVQnUSX1LZ6C",
        "colab_type": "code",
        "outputId": "0019d2fd-59d3-45f6-a19d-d9a295cfae39",
        "colab": {
          "base_uri": "https://localhost:8080/",
          "height": 1000
        }
      },
      "source": [
        "from sklearn.metrics import accuracy_score\n",
        "from sklearn.metrics import f1_score\n",
        "validation_epochs = []\n",
        "f1_validation_list = []\n",
        "for epoch in range(total_epoch_of_seq):\n",
        "  #prepare input\n",
        "  input_batch_of_seq, target_batch_of_seq = generate_seq_batch(train_seq_embeddings, sentiments_train_n, seq_batch_size)\n",
        "  input_batch_torch_of_seq = torch.from_numpy(np.array(input_batch_of_seq)).float().to(device)\n",
        "  target_batch_torch_of_seq = torch.from_numpy(np.array(target_batch_of_seq)).view(-1).to(device)\n",
        " \n",
        "  #train the sequence model\n",
        "  sequenceModel.train()\n",
        "  outputs_of_seq,_ = sequenceModel(input_batch_torch_of_seq) \n",
        "  loss_of_seq = criterion_of_seq_model(outputs_of_seq, target_batch_torch_of_seq)\n",
        "  loss_of_seq.backward()\n",
        "  optimizer_of_seq.step()\n",
        "  optimizer_of_seq.zero_grad()\n",
        "  \n",
        "  sequenceModel.eval()\n",
        "  outputs_of_seq,_ = sequenceModel(input_batch_torch_of_seq) \n",
        "\n",
        "  if epoch % seq_shown_interval == seq_shown_interval - 1:\n",
        "    loss_of_seq = criterion_of_seq_model(outputs_of_seq, target_batch_torch_of_seq)\n",
        "    _, predicted_of_seq = torch.max(outputs_of_seq, 1) \n",
        "    train_acc= accuracy_score(predicted_of_seq.cpu().numpy(),target_batch_torch_of_seq.cpu().numpy())\n",
        "    seq_epochs.append(epoch)\n",
        "    seq_loss_list.append(loss_of_seq.item())\n",
        "    seq_acc_list.append(train_acc)\n",
        "    print('Epoch: %d, train loss: %.6f, train_acc: %.4f'%(epoch + 1, loss_of_seq.item(), train_acc))\n",
        "\n",
        "  if epoch % validation_epoch_interval_1 == validation_epoch_interval_1 - 1:\n",
        "    \n",
        "    sum_validation_loss = 0\n",
        "    sum_validation_accuracy = 0\n",
        "    validation_predicted = torch.empty(total_validation)\n",
        "    for each_batch in range(0, validation_batchs):\n",
        "      input_batch_torch_of_validation = torch.from_numpy(np.array(test_seq_embeddings[int((total_validation/validation_batchs) * each_batch) : int((total_validation/validation_batchs) * (each_batch + 1))])).float().to(device)\n",
        "      target_batch_torch_of_validation = torch.from_numpy(sentiments_test_n[int((total_validation/validation_batchs) * each_batch) : int((total_validation/validation_batchs) * (each_batch + 1))]).to(device)\n",
        "      \n",
        "      # from_batch_index = (total_validation/validation_batchs) * each_batch\n",
        "      # to_batch_index = (total_validation/validation_batchs) * (each_batch + 1)\n",
        "\n",
        "      validation_outputs,_  = sequenceModel(input_batch_torch_of_validation)     \n",
        "      validation_loss = criterion_of_seq_model(validation_outputs, target_batch_torch_of_validation)   \n",
        "      _, predicted_validation = torch.max(validation_outputs, 1)    \n",
        "      validation_accuracy = accuracy_score(predicted_validation.cpu().numpy(), target_batch_torch_of_validation.cpu().numpy())\n",
        "      validation_predicted[int((total_validation/validation_batchs) * each_batch) : int((total_validation/validation_batchs) * (each_batch + 1))] = predicted_validation\n",
        "     \n",
        "      sum_validation_loss += validation_loss.item()\n",
        "      sum_validation_accuracy += validation_accuracy\n",
        "      \n",
        "    validation_loss_list.append(sum_validation_loss/validation_batchs)\n",
        "    validation_accuracy_list.append(sum_validation_accuracy/validation_batchs)\n",
        "      \n",
        "    f1_validation_score = f1_score(np.array(sentiments_test_n), validation_predicted.cpu().numpy(), average='weighted') \n",
        "    validation_epochs.append(epoch)\n",
        "    f1_validation_list.append(f1_validation_score)\n",
        "   \n",
        "\n",
        "print('Finished Sequence Model Training')"
      ],
      "execution_count": 0,
      "outputs": [
        {
          "output_type": "stream",
          "text": [
            "Epoch: 20, train loss: 0.692259, train_acc: 0.5625\n",
            "Epoch: 40, train loss: 0.691902, train_acc: 0.5312\n",
            "Epoch: 60, train loss: 0.698900, train_acc: 0.3750\n",
            "Epoch: 80, train loss: 0.693456, train_acc: 0.4375\n",
            "Epoch: 100, train loss: 0.694900, train_acc: 0.4688\n",
            "Epoch: 120, train loss: 0.694198, train_acc: 0.5312\n",
            "Epoch: 140, train loss: 0.690863, train_acc: 0.6250\n",
            "Epoch: 160, train loss: 0.697398, train_acc: 0.3438\n",
            "Epoch: 180, train loss: 0.692085, train_acc: 0.4688\n",
            "Epoch: 200, train loss: 0.690776, train_acc: 0.5625\n",
            "Epoch: 220, train loss: 0.694586, train_acc: 0.4375\n",
            "Epoch: 240, train loss: 0.694318, train_acc: 0.5000\n",
            "Epoch: 260, train loss: 0.696697, train_acc: 0.4688\n",
            "Epoch: 280, train loss: 0.686187, train_acc: 0.6250\n",
            "Epoch: 300, train loss: 0.690624, train_acc: 0.5312\n",
            "Epoch: 320, train loss: 0.687347, train_acc: 0.5625\n",
            "Epoch: 340, train loss: 0.678182, train_acc: 0.5938\n",
            "Epoch: 360, train loss: 0.690580, train_acc: 0.5938\n",
            "Epoch: 380, train loss: 0.684191, train_acc: 0.6250\n",
            "Epoch: 400, train loss: 0.692083, train_acc: 0.5625\n",
            "Epoch: 420, train loss: 0.692277, train_acc: 0.3438\n",
            "Epoch: 440, train loss: 0.697213, train_acc: 0.4688\n",
            "Epoch: 460, train loss: 0.685063, train_acc: 0.5938\n",
            "Epoch: 480, train loss: 0.682832, train_acc: 0.5312\n",
            "Epoch: 500, train loss: 0.699864, train_acc: 0.4375\n",
            "Epoch: 520, train loss: 0.695740, train_acc: 0.4062\n",
            "Epoch: 540, train loss: 0.692614, train_acc: 0.5000\n",
            "Epoch: 560, train loss: 0.696434, train_acc: 0.4375\n",
            "Epoch: 580, train loss: 0.688679, train_acc: 0.5312\n",
            "Epoch: 600, train loss: 0.691568, train_acc: 0.4375\n",
            "Epoch: 620, train loss: 0.702092, train_acc: 0.5000\n",
            "Epoch: 640, train loss: 0.694905, train_acc: 0.5625\n",
            "Epoch: 660, train loss: 0.692084, train_acc: 0.5000\n",
            "Epoch: 680, train loss: 0.687342, train_acc: 0.4375\n",
            "Epoch: 700, train loss: 0.677546, train_acc: 0.6250\n",
            "Epoch: 720, train loss: 0.699140, train_acc: 0.3125\n",
            "Epoch: 740, train loss: 0.689948, train_acc: 0.5625\n",
            "Epoch: 760, train loss: 0.687426, train_acc: 0.5938\n",
            "Epoch: 780, train loss: 0.684359, train_acc: 0.6562\n",
            "Epoch: 800, train loss: 0.693567, train_acc: 0.3750\n",
            "Epoch: 820, train loss: 0.685346, train_acc: 0.5625\n",
            "Epoch: 840, train loss: 0.680811, train_acc: 0.5312\n",
            "Epoch: 860, train loss: 0.687214, train_acc: 0.5312\n",
            "Epoch: 880, train loss: 0.688876, train_acc: 0.5938\n",
            "Epoch: 900, train loss: 0.688902, train_acc: 0.5625\n",
            "Epoch: 920, train loss: 0.691800, train_acc: 0.5000\n",
            "Epoch: 940, train loss: 0.690869, train_acc: 0.5312\n",
            "Epoch: 960, train loss: 0.670698, train_acc: 0.6562\n",
            "Epoch: 980, train loss: 0.704984, train_acc: 0.4062\n",
            "Epoch: 1000, train loss: 0.686234, train_acc: 0.4062\n",
            "Epoch: 1020, train loss: 0.689244, train_acc: 0.5312\n",
            "Epoch: 1040, train loss: 0.689599, train_acc: 0.5312\n",
            "Epoch: 1060, train loss: 0.693585, train_acc: 0.4688\n",
            "Epoch: 1080, train loss: 0.707112, train_acc: 0.5625\n",
            "Epoch: 1100, train loss: 0.678909, train_acc: 0.6250\n",
            "Epoch: 1120, train loss: 0.701795, train_acc: 0.3438\n",
            "Epoch: 1140, train loss: 0.688584, train_acc: 0.4688\n",
            "Epoch: 1160, train loss: 0.686841, train_acc: 0.5625\n",
            "Epoch: 1180, train loss: 0.696331, train_acc: 0.4688\n",
            "Epoch: 1200, train loss: 0.693646, train_acc: 0.4375\n",
            "Epoch: 1220, train loss: 0.683764, train_acc: 0.6562\n",
            "Epoch: 1240, train loss: 0.701897, train_acc: 0.3750\n",
            "Epoch: 1260, train loss: 0.696282, train_acc: 0.3750\n",
            "Epoch: 1280, train loss: 0.693295, train_acc: 0.5000\n",
            "Epoch: 1300, train loss: 0.692764, train_acc: 0.5000\n",
            "Epoch: 1320, train loss: 0.692781, train_acc: 0.5625\n",
            "Epoch: 1340, train loss: 0.694235, train_acc: 0.4375\n",
            "Epoch: 1360, train loss: 0.703068, train_acc: 0.4688\n",
            "Epoch: 1380, train loss: 0.706285, train_acc: 0.4688\n",
            "Epoch: 1400, train loss: 0.687920, train_acc: 0.5312\n",
            "Epoch: 1420, train loss: 0.694452, train_acc: 0.4375\n",
            "Epoch: 1440, train loss: 0.681521, train_acc: 0.5938\n",
            "Epoch: 1460, train loss: 0.728342, train_acc: 0.5312\n",
            "Epoch: 1480, train loss: 0.696189, train_acc: 0.5312\n",
            "Epoch: 1500, train loss: 0.690131, train_acc: 0.6875\n",
            "Epoch: 1520, train loss: 0.686378, train_acc: 0.5000\n",
            "Epoch: 1540, train loss: 0.686949, train_acc: 0.4062\n",
            "Epoch: 1560, train loss: 0.687660, train_acc: 0.5938\n",
            "Epoch: 1580, train loss: 0.700983, train_acc: 0.4375\n",
            "Epoch: 1600, train loss: 0.695837, train_acc: 0.4062\n",
            "Epoch: 1620, train loss: 0.680154, train_acc: 0.5312\n",
            "Epoch: 1640, train loss: 0.677218, train_acc: 0.4375\n",
            "Epoch: 1660, train loss: 0.679471, train_acc: 0.4375\n",
            "Epoch: 1680, train loss: 0.686777, train_acc: 0.5625\n",
            "Epoch: 1700, train loss: 0.668963, train_acc: 0.6250\n",
            "Epoch: 1720, train loss: 0.699148, train_acc: 0.3750\n",
            "Epoch: 1740, train loss: 0.674678, train_acc: 0.3750\n",
            "Epoch: 1760, train loss: 0.677450, train_acc: 0.5312\n",
            "Epoch: 1780, train loss: 0.682942, train_acc: 0.6250\n",
            "Epoch: 1800, train loss: 0.691134, train_acc: 0.4375\n",
            "Epoch: 1820, train loss: 0.703436, train_acc: 0.4375\n",
            "Epoch: 1840, train loss: 0.686974, train_acc: 0.5312\n",
            "Epoch: 1860, train loss: 0.683825, train_acc: 0.5625\n",
            "Epoch: 1880, train loss: 0.695408, train_acc: 0.4062\n",
            "Epoch: 1900, train loss: 0.715427, train_acc: 0.5000\n",
            "Epoch: 1920, train loss: 0.670143, train_acc: 0.5000\n",
            "Epoch: 1940, train loss: 0.680495, train_acc: 0.5625\n",
            "Epoch: 1960, train loss: 0.689008, train_acc: 0.4375\n",
            "Epoch: 1980, train loss: 0.704992, train_acc: 0.4375\n",
            "Epoch: 2000, train loss: 0.685107, train_acc: 0.6250\n",
            "Finished Sequence Model Training\n"
          ],
          "name": "stdout"
        }
      ]
    },
    {
      "cell_type": "code",
      "metadata": {
        "id": "8IrzgxvHsCLY",
        "colab_type": "code",
        "outputId": "3a792916-288d-4e72-9308-573af2c6733f",
        "colab": {
          "base_uri": "https://localhost:8080/",
          "height": 545
        }
      },
      "source": [
        "# The loss and accuracy values both not improved\n",
        "plt.plot(seq_epochs, seq_loss_list, 'g', label = 'loss')\n",
        "plt.title('Training Loss of Sequence Model')\n",
        "plt.legend()\n",
        "plt.figure()\n",
        "\n",
        "plt.plot(seq_epochs, seq_acc_list, 'b', label = 'accuracy')\n",
        "plt.title('Training Accuracy of Sequence Model')\n",
        "plt.legend()\n",
        "plt.show()"
      ],
      "execution_count": 0,
      "outputs": [
        {
          "output_type": "display_data",
          "data": {
            "image/png": "[encoded data removed]",
            "text/plain": [
              "<Figure size 432x288 with 1 Axes>"
            ]
          },
          "metadata": {
            "tags": [],
            "needs_background": "light"
          }
        },
        {
          "output_type": "display_data",
          "data": {
            "image/png": "[encoded data removed]",
            "text/plain": [
              "<Figure size 432x288 with 1 Axes>"
            ]
          },
          "metadata": {
            "tags": [],
            "needs_background": "light"
          }
        }
      ]
    },
    {
      "cell_type": "code",
      "metadata": {
        "id": "UCLcVlQ6gf5R",
        "colab_type": "code",
        "outputId": "143ffcfc-ba5c-440e-e792-4d548063aab5",
        "colab": {
          "base_uri": "https://localhost:8080/",
          "height": 545
        }
      },
      "source": [
        "# The loss and accuracy values both not improved\n",
        "plt.plot(validation_epochs, validation_loss_list, 'g', label = 'loss')\n",
        "plt.title('Validation Loss of Sequence Model')\n",
        "plt.legend()\n",
        "plt.figure()\n",
        "\n",
        "plt.plot(validation_epochs, validation_accuracy_list, 'b', label = 'accuracy')\n",
        "plt.title('Validation Accuracy of Sequence Model')\n",
        "plt.legend()\n",
        "plt.show()"
      ],
      "execution_count": 0,
      "outputs": [
        {
          "output_type": "display_data",
          "data": {
            "image/png": "[encoded data removed]",
            "text/plain": [
              "<Figure size 432x288 with 1 Axes>"
            ]
          },
          "metadata": {
            "tags": [],
            "needs_background": "light"
          }
        },
        {
          "output_type": "display_data",
          "data": {
            "image/png": "[encoded data removed]",
            "text/plain": [
              "<Figure size 432x288 with 1 Axes>"
            ]
          },
          "metadata": {
            "tags": [],
            "needs_background": "light"
          }
        }
      ]
    },
    {
      "cell_type": "markdown",
      "metadata": {
        "id": "Tk9nq8dqxfMZ",
        "colab_type": "text"
      },
      "source": [
        "**Sequence Model 2**  </br>\n",
        "File name: Sequence_model_2.pt</br>\n",
        "Model used: LSTM </br>\n",
        "Hyperparameters selection:  </br>\n",
        "\n",
        "```\n",
        "seq_n_hidden = 128\n",
        "seq_batch_size = 32\n",
        "total_epoch_of_seq = 1000\n",
        "seq_learning_rate = 0.001\n",
        "seq_shown_interval = 20\n",
        "```\n",
        "Performance: Not good, loss does not converge."
      ]
    },
    {
      "cell_type": "code",
      "metadata": {
        "id": "zzzGfa5JQP2F",
        "colab_type": "code",
        "colab": {}
      },
      "source": [
        "import matplotlib\n",
        "import matplotlib.pyplot as plt\n",
        "\n",
        "seq_n_input = train_seq_embeddings.shape[2] #200\n",
        "\n",
        "seq_n_class = len(set(labels))  #2\n",
        "\n",
        "seq_n_hidden = 128\n",
        "seq_batch_size = 32\n",
        "total_epoch_of_seq = 1000\n",
        "seq_learning_rate = 0.001\n",
        "seq_shown_interval = 20 \n",
        "validation_epoch_interval_1 = 50\n",
        "total_validation = 25000\n",
        "validation_batchs = 5000\n",
        "seq_epochs = []\n",
        "seq_loss_list = []\n",
        "seq_acc_list = []\n",
        "validation_loss_list = []\n",
        "validation_accuracy_list = []\n",
        "\n"
      ],
      "execution_count": 0,
      "outputs": []
    },
    {
      "cell_type": "code",
      "metadata": {
        "id": "EppFNptVcIWu",
        "colab_type": "code",
        "outputId": "a21a6fc4-b1d3-4b5b-b7ff-efad1b9b7458",
        "colab": {
          "base_uri": "https://localhost:8080/",
          "height": 901
        }
      },
      "source": [
        "from sklearn.metrics import accuracy_score\n",
        "from sklearn.metrics import f1_score\n",
        "validation_epochs = []\n",
        "f1_validation_list = []\n",
        "for epoch in range(total_epoch_of_seq):\n",
        "  #prepare input\n",
        "  input_batch_of_seq, target_batch_of_seq = generate_seq_batch(train_seq_embeddings, sentiments_train_n, seq_batch_size)\n",
        "  input_batch_torch_of_seq = torch.from_numpy(np.array(input_batch_of_seq)).float().to(device)\n",
        "  target_batch_torch_of_seq = torch.from_numpy(np.array(target_batch_of_seq)).view(-1).to(device)\n",
        " \n",
        "  #train the sequence model\n",
        "  sequenceModel.train()\n",
        "  outputs_of_seq,_ = sequenceModel(input_batch_torch_of_seq) \n",
        "  loss_of_seq = criterion_of_seq_model(outputs_of_seq, target_batch_torch_of_seq)\n",
        "  loss_of_seq.backward()\n",
        "  optimizer_of_seq.step()\n",
        "  optimizer_of_seq.zero_grad()\n",
        "  \n",
        "  sequenceModel.eval()\n",
        "  outputs_of_seq,_ = sequenceModel(input_batch_torch_of_seq) \n",
        "\n",
        "  if epoch % seq_shown_interval == seq_shown_interval - 1:\n",
        "    loss_of_seq = criterion_of_seq_model(outputs_of_seq, target_batch_torch_of_seq)\n",
        "    _, predicted_of_seq = torch.max(outputs_of_seq, 1) \n",
        "    train_acc= accuracy_score(predicted_of_seq.cpu().numpy(),target_batch_torch_of_seq.cpu().numpy())\n",
        "    seq_epochs.append(epoch)\n",
        "    seq_loss_list.append(loss_of_seq.item())\n",
        "    seq_acc_list.append(train_acc)\n",
        "    print('Epoch: %d, train loss: %.6f, train_acc: %.4f'%(epoch + 1, loss_of_seq.item(), train_acc))\n",
        "\n",
        "  if epoch % validation_epoch_interval_1 == validation_epoch_interval_1 - 1:\n",
        "    \n",
        "    sum_validation_loss = 0\n",
        "    sum_validation_accuracy = 0\n",
        "    validation_predicted = torch.empty(total_validation)\n",
        "    for each_batch in range(0, validation_batchs):\n",
        "      input_batch_torch_of_validation = torch.from_numpy(np.array(test_seq_embeddings[int((total_validation/validation_batchs) * each_batch) : int((total_validation/validation_batchs) * (each_batch + 1))])).float().to(device)\n",
        "      target_batch_torch_of_validation = torch.from_numpy(sentiments_test_n[int((total_validation/validation_batchs) * each_batch) : int((total_validation/validation_batchs) * (each_batch + 1))]).to(device)\n",
        "      \n",
        "      # from_batch_index = (total_validation/validation_batchs) * each_batch\n",
        "      # to_batch_index = (total_validation/validation_batchs) * (each_batch + 1)\n",
        "\n",
        "      validation_outputs,_  = sequenceModel(input_batch_torch_of_validation)     \n",
        "      validation_loss = criterion_of_seq_model(validation_outputs, target_batch_torch_of_validation)   \n",
        "      _, predicted_validation = torch.max(validation_outputs, 1)    \n",
        "      validation_accuracy = accuracy_score(predicted_validation.cpu().numpy(), target_batch_torch_of_validation.cpu().numpy())\n",
        "      validation_predicted[int((total_validation/validation_batchs) * each_batch) : int((total_validation/validation_batchs) * (each_batch + 1))] = predicted_validation\n",
        "     \n",
        "      sum_validation_loss += validation_loss.item()\n",
        "      sum_validation_accuracy += validation_accuracy\n",
        "      \n",
        "    validation_loss_list.append(sum_validation_loss/validation_batchs)\n",
        "    validation_accuracy_list.append(sum_validation_accuracy/validation_batchs)\n",
        "      \n",
        "    f1_validation_score = f1_score(np.array(sentiments_test_n), validation_predicted.cpu().numpy(), average='weighted') \n",
        "    validation_epochs.append(epoch)\n",
        "    f1_validation_list.append(f1_validation_score)\n",
        "   \n",
        "\n",
        "print('Finished Sequence Model Training')"
      ],
      "execution_count": 0,
      "outputs": [
        {
          "output_type": "stream",
          "text": [
            "Epoch: 20, train loss: 0.690290, train_acc: 0.5312\n",
            "Epoch: 40, train loss: 0.677966, train_acc: 0.6250\n",
            "Epoch: 60, train loss: 0.693743, train_acc: 0.5000\n",
            "Epoch: 80, train loss: 0.690692, train_acc: 0.4688\n",
            "Epoch: 100, train loss: 0.680023, train_acc: 0.6250\n",
            "Epoch: 120, train loss: 0.696302, train_acc: 0.3438\n",
            "Epoch: 140, train loss: 0.693053, train_acc: 0.5000\n",
            "Epoch: 160, train loss: 0.687267, train_acc: 0.5625\n",
            "Epoch: 180, train loss: 0.661856, train_acc: 0.5938\n",
            "Epoch: 200, train loss: 0.702719, train_acc: 0.3438\n",
            "Epoch: 220, train loss: 0.702230, train_acc: 0.4688\n",
            "Epoch: 240, train loss: 0.695653, train_acc: 0.5312\n",
            "Epoch: 260, train loss: 0.697954, train_acc: 0.5000\n",
            "Epoch: 280, train loss: 0.690484, train_acc: 0.5625\n",
            "Epoch: 300, train loss: 0.694943, train_acc: 0.4375\n",
            "Epoch: 320, train loss: 0.692676, train_acc: 0.5312\n",
            "Epoch: 340, train loss: 0.692103, train_acc: 0.5625\n",
            "Epoch: 360, train loss: 0.697869, train_acc: 0.3438\n",
            "Epoch: 380, train loss: 0.692014, train_acc: 0.4688\n",
            "Epoch: 400, train loss: 0.689594, train_acc: 0.5312\n",
            "Epoch: 420, train loss: 0.693295, train_acc: 0.5312\n",
            "Epoch: 440, train loss: 0.691073, train_acc: 0.5625\n",
            "Epoch: 460, train loss: 0.699686, train_acc: 0.3438\n",
            "Epoch: 480, train loss: 0.691326, train_acc: 0.5000\n",
            "Epoch: 500, train loss: 0.688236, train_acc: 0.6562\n",
            "Epoch: 520, train loss: 0.691441, train_acc: 0.5312\n",
            "Epoch: 540, train loss: 0.690743, train_acc: 0.5312\n",
            "Epoch: 560, train loss: 0.690680, train_acc: 0.5312\n",
            "Epoch: 580, train loss: 0.694134, train_acc: 0.5000\n",
            "Epoch: 600, train loss: 0.687599, train_acc: 0.6875\n",
            "Epoch: 620, train loss: 0.697320, train_acc: 0.3438\n",
            "Epoch: 640, train loss: 0.680412, train_acc: 0.7500\n",
            "Epoch: 660, train loss: 0.697020, train_acc: 0.4375\n",
            "Epoch: 680, train loss: 0.687899, train_acc: 0.5625\n",
            "Epoch: 700, train loss: 0.692731, train_acc: 0.5000\n",
            "Epoch: 720, train loss: 0.693631, train_acc: 0.4062\n",
            "Epoch: 740, train loss: 0.693400, train_acc: 0.4062\n",
            "Epoch: 760, train loss: 0.692981, train_acc: 0.5000\n",
            "Epoch: 780, train loss: 0.707795, train_acc: 0.4688\n",
            "Epoch: 800, train loss: 0.687915, train_acc: 0.4688\n",
            "Epoch: 820, train loss: 0.692052, train_acc: 0.5312\n",
            "Epoch: 840, train loss: 0.695244, train_acc: 0.5312\n",
            "Epoch: 860, train loss: 0.730464, train_acc: 0.4062\n",
            "Epoch: 880, train loss: 0.694287, train_acc: 0.4688\n",
            "Epoch: 900, train loss: 0.688660, train_acc: 0.5625\n",
            "Epoch: 920, train loss: 0.694705, train_acc: 0.4062\n",
            "Epoch: 940, train loss: 0.693535, train_acc: 0.5625\n",
            "Epoch: 960, train loss: 0.691807, train_acc: 0.5000\n",
            "Epoch: 980, train loss: 0.694045, train_acc: 0.5000\n",
            "Epoch: 1000, train loss: 0.696622, train_acc: 0.3750\n",
            "Finished Sequence Model Training\n"
          ],
          "name": "stdout"
        }
      ]
    },
    {
      "cell_type": "code",
      "metadata": {
        "id": "U2as9T62lQDV",
        "colab_type": "code",
        "outputId": "c903c7d2-7e74-4f10-f76a-0a6187bc50fc",
        "colab": {
          "base_uri": "https://localhost:8080/",
          "height": 545
        }
      },
      "source": [
        "# The loss and accuracy values both not improved\n",
        "plt.plot(seq_epochs, seq_loss_list, 'g', label = 'loss')\n",
        "plt.title('Training Loss of Sequence Model')\n",
        "plt.legend()\n",
        "plt.figure()\n",
        "\n",
        "plt.plot(seq_epochs, seq_acc_list, 'b', label = 'accuracy')\n",
        "plt.title('Training Accuracy of Sequence Model')\n",
        "plt.legend()\n",
        "plt.show()"
      ],
      "execution_count": 0,
      "outputs": [
        {
          "output_type": "display_data",
          "data": {
            "image/png": "[encoded data removed]",
            "text/plain": [
              "<Figure size 432x288 with 1 Axes>"
            ]
          },
          "metadata": {
            "tags": [],
            "needs_background": "light"
          }
        },
        {
          "output_type": "display_data",
          "data": {
            "image/png": "[encoded data removed]",
            "text/plain": [
              "<Figure size 432x288 with 1 Axes>"
            ]
          },
          "metadata": {
            "tags": [],
            "needs_background": "light"
          }
        }
      ]
    },
    {
      "cell_type": "code",
      "metadata": {
        "id": "Wc_UNgw5lQL-",
        "colab_type": "code",
        "outputId": "b9481d76-a255-4d2e-cc24-c36a08f67c13",
        "colab": {
          "base_uri": "https://localhost:8080/",
          "height": 545
        }
      },
      "source": [
        "# The loss and accuracy values both not improved\n",
        "plt.plot(validation_epochs, validation_loss_list, 'g', label = 'loss')\n",
        "plt.title('Validation Loss of Sequence Model')\n",
        "plt.legend()\n",
        "plt.figure()\n",
        "\n",
        "plt.plot(validation_epochs, validation_accuracy_list, 'b', label = 'accuracy')\n",
        "plt.title('Validation Accuracy of Sequence Model')\n",
        "plt.legend()\n",
        "plt.show()"
      ],
      "execution_count": 0,
      "outputs": [
        {
          "output_type": "display_data",
          "data": {
            "image/png": "[encoded data removed]",
            "text/plain": [
              "<Figure size 432x288 with 1 Axes>"
            ]
          },
          "metadata": {
            "tags": [],
            "needs_background": "light"
          }
        },
        {
          "output_type": "display_data",
          "data": {
            "image/png": "[encoded data removed]",
            "text/plain": [
              "<Figure size 432x288 with 1 Axes>"
            ]
          },
          "metadata": {
            "tags": [],
            "needs_background": "light"
          }
        }
      ]
    },
    {
      "cell_type": "markdown",
      "metadata": {
        "id": "-2feNpG-LZx2",
        "colab_type": "text"
      },
      "source": [
        "### 2.3.4. Save Sequence Model"
      ]
    },
    {
      "cell_type": "code",
      "metadata": {
        "id": "qfM8G9SObjpJ",
        "colab_type": "code",
        "colab": {
          "base_uri": "https://localhost:8080/",
          "height": 72
        },
        "outputId": "8512dda9-a2d9-4159-f5e9-fb377c7b101f"
      },
      "source": [
        "# Please comment your code\n",
        "torch.save(sequenceModel, 'Sequence_model.pt')"
      ],
      "execution_count": 30,
      "outputs": [
        {
          "output_type": "stream",
          "text": [
            "/usr/local/lib/python3.6/dist-packages/torch/serialization.py:360: UserWarning: Couldn't retrieve source code for container of type SequenceModel. It won't be checked for correctness upon loading.\n",
            "  \"type \" + obj.__name__ + \". It won't be checked \"\n"
          ],
          "name": "stderr"
        }
      ]
    },
    {
      "cell_type": "markdown",
      "metadata": {
        "id": "4zFo6YppL6w3",
        "colab_type": "text"
      },
      "source": [
        "### 2.3.5. Load Sequence Model"
      ]
    },
    {
      "cell_type": "code",
      "metadata": {
        "id": "OtNxLzDGMCan",
        "colab_type": "code",
        "outputId": "e3581614-fc6a-4f7c-d795-245495c505a3",
        "colab": {
          "base_uri": "https://localhost:8080/",
          "height": 87
        }
      },
      "source": [
        "# Please comment your code\n",
        "sequence_model = torch.load('Sequence_model.pt')\n",
        "sequence_model.eval()"
      ],
      "execution_count": 0,
      "outputs": [
        {
          "output_type": "execute_result",
          "data": {
            "text/plain": [
              "SequenceModel(\n",
              "  (lstm): LSTM(200, 128, batch_first=True)\n",
              "  (linear): Linear(in_features=128, out_features=2, bias=True)\n",
              ")"
            ]
          },
          "metadata": {
            "tags": []
          },
          "execution_count": 75
        }
      ]
    },
    {
      "cell_type": "markdown",
      "metadata": {
        "id": "a4mpRpocePLN",
        "colab_type": "text"
      },
      "source": [
        "# 3 - Evaluation\n",
        "\n",
        "(*Please show your empirical evidence*)"
      ]
    },
    {
      "cell_type": "markdown",
      "metadata": {
        "id": "KEW1zMgVMREr",
        "colab_type": "text"
      },
      "source": [
        "## 3.1. Performance Evaluation\n",
        "**Sequence Model: Best performance.**\n",
        "The accuracy, recall and f1 score are shown as the following table."
      ]
    },
    {
      "cell_type": "code",
      "metadata": {
        "id": "q9MJM4vuooOc",
        "colab_type": "code",
        "colab": {}
      },
      "source": [
        "total_tests = 25000\n",
        "test_batchs = 500"
      ],
      "execution_count": 0,
      "outputs": []
    },
    {
      "cell_type": "code",
      "metadata": {
        "id": "b60n4cuAfKqm",
        "colab_type": "code",
        "colab": {
          "base_uri": "https://localhost:8080/",
          "height": 173
        },
        "outputId": "9640a849-4ddf-4fb9-cfc1-b6207a9e0d88"
      },
      "source": [
        "test_predicted = torch.empty(total_tests)\n",
        "for each_batch in range(0, test_batchs):\n",
        "  from_batch_index = int((total_tests/test_batchs) * each_batch)\n",
        "  to_batch_index = int((total_tests/test_batchs) * (each_batch + 1))\n",
        "  \n",
        "  input_batch_torch_of_test = torch.from_numpy(np.array(test_seq_embeddings[from_batch_index : to_batch_index])).float().to(device)\n",
        "  target_batch_torch_of_test = torch.from_numpy(sentiments_test_n[from_batch_index : to_batch_index]).to(device)\n",
        "  \n",
        "  test_outputs,_ = sequenceModel(input_batch_torch_of_test) \n",
        "  _, predicted_test = torch.max(test_outputs, 1)\n",
        "  test_predicted[from_batch_index : to_batch_index] = predicted_test\n",
        "from sklearn.metrics import f1_score\n",
        "f1 = f1_score(np.array(sentiments_test_n), test_predicted.cpu().numpy(), average='weighted')\n",
        "# send it to cpu \n",
        "# f1score = f1_score(np.array(sentiments_test_n), predicted_test.cpu().numpy(), average='weighted')\n",
        "\n",
        "from sklearn.metrics import classification_report\n",
        "print(classification_report(np.array(sentiments_test_n), test_predicted.cpu().numpy(), digits=4))\n",
        "# print('F1-Score: %.4f' % f1score)"
      ],
      "execution_count": 32,
      "outputs": [
        {
          "output_type": "stream",
          "text": [
            "              precision    recall  f1-score   support\n",
            "\n",
            "           0     0.7492    0.6772    0.7114     12500\n",
            "           1     0.7055    0.7734    0.7379     12500\n",
            "\n",
            "    accuracy                         0.7253     25000\n",
            "   macro avg     0.7274    0.7253    0.7246     25000\n",
            "weighted avg     0.7274    0.7253    0.7246     25000\n",
            "\n"
          ],
          "name": "stdout"
        }
      ]
    },
    {
      "cell_type": "markdown",
      "metadata": {
        "id": "RAnbJLXRUW4k",
        "colab_type": "text"
      },
      "source": [
        "**Evaluation result of Sequence Model 2:**\n",
        "\n",
        "The accuracy, precision, recall and f1 score are shown in the following table. The totally performance is not good. I tried to use Bi-LSTM to replace the LSTM, it works much better."
      ]
    },
    {
      "cell_type": "code",
      "metadata": {
        "id": "0FMDyhzXooS3",
        "colab_type": "code",
        "outputId": "9d54262a-2dd7-4a80-c92c-9a42869ae438",
        "colab": {
          "base_uri": "https://localhost:8080/",
          "height": 173
        }
      },
      "source": [
        "test_predicted = torch.empty(total_tests)\n",
        "for each_batch in range(0, test_batchs):\n",
        "  from_batch_index = int((total_tests/test_batchs) * each_batch)\n",
        "  to_batch_index = int((total_tests/test_batchs) * (each_batch + 1))\n",
        "  \n",
        "  input_batch_torch_of_test = torch.from_numpy(np.array(test_seq_embeddings[from_batch_index : to_batch_index])).float().to(device)\n",
        "  target_batch_torch_of_test = torch.from_numpy(sentiments_test_n[from_batch_index : to_batch_index]).to(device)\n",
        "  \n",
        "  test_outputs,_ = sequenceModel(input_batch_torch_of_test) \n",
        "  _, predicted_test = torch.max(test_outputs, 1)\n",
        "  test_predicted[from_batch_index : to_batch_index] = predicted_test\n",
        "from sklearn.metrics import f1_score\n",
        "f1 = f1_score(np.array(sentiments_test_n), test_predicted.cpu().numpy(), average='weighted')\n",
        "# send it to cpu \n",
        "# f1score = f1_score(np.array(sentiments_test_n), predicted_test.cpu().numpy(), average='weighted')\n",
        "\n",
        "from sklearn.metrics import classification_report\n",
        "print(classification_report(np.array(sentiments_test_n), test_predicted.cpu().numpy(), digits=4))\n",
        "# print('F1-Score: %.4f' % f1score)"
      ],
      "execution_count": 0,
      "outputs": [
        {
          "output_type": "stream",
          "text": [
            "              precision    recall  f1-score   support\n",
            "\n",
            "           0     0.5028    0.8302    0.6263     12500\n",
            "           1     0.5133    0.1790    0.2655     12500\n",
            "\n",
            "    accuracy                         0.5046     25000\n",
            "   macro avg     0.5081    0.5046    0.4459     25000\n",
            "weighted avg     0.5081    0.5046    0.4459     25000\n",
            "\n"
          ],
          "name": "stdout"
        }
      ]
    },
    {
      "cell_type": "code",
      "metadata": {
        "id": "U5dVL_cVVhf6",
        "colab_type": "code",
        "colab": {}
      },
      "source": [
        "total_tests = 25000\n",
        "test_batchs = 5000"
      ],
      "execution_count": 0,
      "outputs": []
    },
    {
      "cell_type": "code",
      "metadata": {
        "id": "wlBBkUamkXCP",
        "colab_type": "code",
        "colab": {}
      },
      "source": [
        "total_tests = len(sentiments_test_n)\n",
        "test_batchs = 100"
      ],
      "execution_count": 0,
      "outputs": []
    },
    {
      "cell_type": "code",
      "metadata": {
        "id": "wZ-JAriv_JnO",
        "colab_type": "code",
        "colab": {}
      },
      "source": [
        "plt.plot(validation_epochs, f1_validation_list, 'g', label = 'Hyperparameter 1')\n",
        "plt.title('Hyperparameter Comparison')\n",
        "plt.show()"
      ],
      "execution_count": 0,
      "outputs": []
    },
    {
      "cell_type": "markdown",
      "metadata": {
        "id": "P28Z1k36MZuo",
        "colab_type": "text"
      },
      "source": [
        "## 3.2. Hyperparameter Testing\n",
        "*You are required to draw a graph(y-axis: f1, x-axis: epoch) for test set and explain the optimal number of epochs based on the learning rate you have already chosen.*"
      ]
    },
    {
      "cell_type": "markdown",
      "metadata": {
        "id": "iiuKKFLncaxW",
        "colab_type": "text"
      },
      "source": [
        "The graph for the best model is shown under this code. Much better than model 2."
      ]
    },
    {
      "cell_type": "markdown",
      "metadata": {
        "id": "7SXju06WVROo",
        "colab_type": "text"
      },
      "source": [
        "Graph for sequence model 2. The f1 score keeps jumpping up and down. Model 2 is not an efficient model to predict the negative or positive reviews. In this graph, the epoch 850 gains the highest f1 score."
      ]
    },
    {
      "cell_type": "code",
      "metadata": {
        "id": "S8-PTfE10Plu",
        "colab_type": "code",
        "colab": {
          "base_uri": "https://localhost:8080/",
          "height": 281
        },
        "outputId": "01df65fa-f3a1-41d4-f0a9-0c7b3fb06927"
      },
      "source": [
        "# Sequence Model\n",
        "plt.plot(validation_epochs, f1_validation_list, 'g', label = 'Hyperparameter 1')\n",
        "plt.title('Hyperparameter Comparison')\n",
        "plt.show()"
      ],
      "execution_count": 33,
      "outputs": [
        {
          "output_type": "display_data",
          "data": {
            "image/png": "[encoded data removed]",
            "text/plain": [
              "<Figure size 432x288 with 1 Axes>"
            ]
          },
          "metadata": {
            "tags": [],
            "needs_background": "light"
          }
        }
      ]
    },
    {
      "cell_type": "code",
      "metadata": {
        "id": "jcMHpPzH_cqp",
        "colab_type": "code",
        "outputId": "86c2e204-cf0d-4e01-f9c8-68dfaf594f53",
        "colab": {
          "base_uri": "https://localhost:8080/",
          "height": 281
        }
      },
      "source": [
        "# Sequence Model 2\n",
        "plt.plot(validation_epochs, f1_validation_list, 'g', label = 'Hyperparameter 1')\n",
        "plt.title('Hyperparameter Comparison')\n",
        "plt.show()"
      ],
      "execution_count": 0,
      "outputs": [
        {
          "output_type": "display_data",
          "data": {
            "image/png": "[encoded data removed]",
            "text/plain": [
              "<Figure size 432x288 with 1 Axes>"
            ]
          },
          "metadata": {
            "tags": [],
            "needs_background": "light"
          }
        }
      ]
    },
    {
      "cell_type": "markdown",
      "metadata": {
        "id": "sfv8rWTKPzeb",
        "colab_type": "text"
      },
      "source": [
        "## Object Oriented Programming codes here"
      ]
    },
    {
      "cell_type": "markdown",
      "metadata": {
        "id": "TS23AjBRSZaX",
        "colab_type": "text"
      },
      "source": [
        "*You can use multiple code snippets. Just add more if needed* "
      ]
    },
    {
      "cell_type": "code",
      "metadata": {
        "colab_type": "code",
        "id": "1hVmx4E52dXS",
        "colab": {}
      },
      "source": [
        "print(\"Thank you.\")"
      ],
      "execution_count": 0,
      "outputs": []
    }
  ]
}